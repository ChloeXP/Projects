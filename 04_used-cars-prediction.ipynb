{
 "cells": [
  {
   "cell_type": "markdown",
   "id": "b9fe4fce",
   "metadata": {
    "_cell_guid": "b1076dfc-b9ad-4769-8c92-a6c4dae69d19",
    "_uuid": "8f2839f25d086af736a60e9eeb907d3b93b6e0e5",
    "papermill": {
     "duration": 0.01747,
     "end_time": "2023-02-27T20:18:32.515304",
     "exception": false,
     "start_time": "2023-02-27T20:18:32.497834",
     "status": "completed"
    },
    "tags": []
   },
   "source": [
    "# Introduction\n",
    "\n",
    "In this Project, I'm going to predict the Price of Used Cars using various features like Present_Price, Selling_Price, Kms_Driven, Fuel_Type, Year etc. The data used in this project was downloaded from Kaggle.\n",
    "\n",
    "To be able to predict used cars market value can help both buyers and sellers.\n",
    "\n",
    "There are lots of individuals who are interested in the used car market at some points in their life because they wanted to sell their car or buy a used car. In this process, it’s a big corner to pay too much or sell less then it’s market value."
   ]
  },
  {
   "cell_type": "markdown",
   "id": "eee836a7",
   "metadata": {
    "papermill": {
     "duration": 0.010809,
     "end_time": "2023-02-27T20:18:32.537308",
     "exception": false,
     "start_time": "2023-02-27T20:18:32.526499",
     "status": "completed"
    },
    "tags": []
   },
   "source": [
    "# Importing libraries"
   ]
  },
  {
   "cell_type": "code",
   "execution_count": 1,
   "id": "6ea5e7e4",
   "metadata": {
    "execution": {
     "iopub.execute_input": "2023-02-27T20:18:32.559924Z",
     "iopub.status.busy": "2023-02-27T20:18:32.559363Z",
     "iopub.status.idle": "2023-02-27T20:18:33.657961Z",
     "shell.execute_reply": "2023-02-27T20:18:33.656286Z"
    },
    "papermill": {
     "duration": 1.11426,
     "end_time": "2023-02-27T20:18:33.662041",
     "exception": false,
     "start_time": "2023-02-27T20:18:32.547781",
     "status": "completed"
    },
    "tags": []
   },
   "outputs": [],
   "source": [
    "import pandas as pd\n",
    "import numpy as np\n",
    "import matplotlib.pyplot as plt\n",
    "import seaborn as sns\n",
    "import warnings \n",
    "warnings.filterwarnings('ignore')\n",
    "pd.set_option('display.max_columns',None)\n",
    "plt.style.use('fivethirtyeight')"
   ]
  },
  {
   "cell_type": "markdown",
   "id": "adedda47",
   "metadata": {
    "papermill": {
     "duration": 0.019774,
     "end_time": "2023-02-27T20:18:33.697305",
     "exception": false,
     "start_time": "2023-02-27T20:18:33.677531",
     "status": "completed"
    },
    "tags": []
   },
   "source": [
    "# Loading the data"
   ]
  },
  {
   "cell_type": "code",
   "execution_count": 2,
   "id": "a7a13422",
   "metadata": {
    "execution": {
     "iopub.execute_input": "2023-02-27T20:18:33.726393Z",
     "iopub.status.busy": "2023-02-27T20:18:33.725807Z",
     "iopub.status.idle": "2023-02-27T20:18:33.776089Z",
     "shell.execute_reply": "2023-02-27T20:18:33.774551Z"
    },
    "papermill": {
     "duration": 0.067946,
     "end_time": "2023-02-27T20:18:33.778808",
     "exception": false,
     "start_time": "2023-02-27T20:18:33.710862",
     "status": "completed"
    },
    "tags": []
   },
   "outputs": [
    {
     "data": {
      "text/html": [
       "<div>\n",
       "<style scoped>\n",
       "    .dataframe tbody tr th:only-of-type {\n",
       "        vertical-align: middle;\n",
       "    }\n",
       "\n",
       "    .dataframe tbody tr th {\n",
       "        vertical-align: top;\n",
       "    }\n",
       "\n",
       "    .dataframe thead th {\n",
       "        text-align: right;\n",
       "    }\n",
       "</style>\n",
       "<table border=\"1\" class=\"dataframe\">\n",
       "  <thead>\n",
       "    <tr style=\"text-align: right;\">\n",
       "      <th></th>\n",
       "      <th>Car_Name</th>\n",
       "      <th>Year</th>\n",
       "      <th>Selling_Price</th>\n",
       "      <th>Present_Price</th>\n",
       "      <th>Driven_kms</th>\n",
       "      <th>Fuel_Type</th>\n",
       "      <th>Selling_type</th>\n",
       "      <th>Transmission</th>\n",
       "      <th>Owner</th>\n",
       "    </tr>\n",
       "  </thead>\n",
       "  <tbody>\n",
       "    <tr>\n",
       "      <th>0</th>\n",
       "      <td>ritz</td>\n",
       "      <td>2014</td>\n",
       "      <td>3.35</td>\n",
       "      <td>5.59</td>\n",
       "      <td>27000</td>\n",
       "      <td>Petrol</td>\n",
       "      <td>Dealer</td>\n",
       "      <td>Manual</td>\n",
       "      <td>0</td>\n",
       "    </tr>\n",
       "    <tr>\n",
       "      <th>1</th>\n",
       "      <td>sx4</td>\n",
       "      <td>2013</td>\n",
       "      <td>4.75</td>\n",
       "      <td>9.54</td>\n",
       "      <td>43000</td>\n",
       "      <td>Diesel</td>\n",
       "      <td>Dealer</td>\n",
       "      <td>Manual</td>\n",
       "      <td>0</td>\n",
       "    </tr>\n",
       "    <tr>\n",
       "      <th>2</th>\n",
       "      <td>ciaz</td>\n",
       "      <td>2017</td>\n",
       "      <td>7.25</td>\n",
       "      <td>9.85</td>\n",
       "      <td>6900</td>\n",
       "      <td>Petrol</td>\n",
       "      <td>Dealer</td>\n",
       "      <td>Manual</td>\n",
       "      <td>0</td>\n",
       "    </tr>\n",
       "    <tr>\n",
       "      <th>3</th>\n",
       "      <td>wagon r</td>\n",
       "      <td>2011</td>\n",
       "      <td>2.85</td>\n",
       "      <td>4.15</td>\n",
       "      <td>5200</td>\n",
       "      <td>Petrol</td>\n",
       "      <td>Dealer</td>\n",
       "      <td>Manual</td>\n",
       "      <td>0</td>\n",
       "    </tr>\n",
       "    <tr>\n",
       "      <th>4</th>\n",
       "      <td>swift</td>\n",
       "      <td>2014</td>\n",
       "      <td>4.60</td>\n",
       "      <td>6.87</td>\n",
       "      <td>42450</td>\n",
       "      <td>Diesel</td>\n",
       "      <td>Dealer</td>\n",
       "      <td>Manual</td>\n",
       "      <td>0</td>\n",
       "    </tr>\n",
       "  </tbody>\n",
       "</table>\n",
       "</div>"
      ],
      "text/plain": [
       "  Car_Name  Year  Selling_Price  Present_Price  Driven_kms Fuel_Type  \\\n",
       "0     ritz  2014           3.35           5.59       27000    Petrol   \n",
       "1      sx4  2013           4.75           9.54       43000    Diesel   \n",
       "2     ciaz  2017           7.25           9.85        6900    Petrol   \n",
       "3  wagon r  2011           2.85           4.15        5200    Petrol   \n",
       "4    swift  2014           4.60           6.87       42450    Diesel   \n",
       "\n",
       "  Selling_type Transmission  Owner  \n",
       "0       Dealer       Manual      0  \n",
       "1       Dealer       Manual      0  \n",
       "2       Dealer       Manual      0  \n",
       "3       Dealer       Manual      0  \n",
       "4       Dealer       Manual      0  "
      ]
     },
     "execution_count": 2,
     "metadata": {},
     "output_type": "execute_result"
    }
   ],
   "source": [
    "df = pd.read_csv('/kaggle/input/car-price-predictionused-cars/car data.csv')\n",
    "df.head()"
   ]
  },
  {
   "cell_type": "markdown",
   "id": "d9d63509",
   "metadata": {
    "papermill": {
     "duration": 0.010416,
     "end_time": "2023-02-27T20:18:33.799976",
     "exception": false,
     "start_time": "2023-02-27T20:18:33.789560",
     "status": "completed"
    },
    "tags": []
   },
   "source": [
    "# Data Preprocessing"
   ]
  },
  {
   "cell_type": "code",
   "execution_count": 3,
   "id": "f4c4b066",
   "metadata": {
    "execution": {
     "iopub.execute_input": "2023-02-27T20:18:33.823211Z",
     "iopub.status.busy": "2023-02-27T20:18:33.822816Z",
     "iopub.status.idle": "2023-02-27T20:18:33.867751Z",
     "shell.execute_reply": "2023-02-27T20:18:33.866588Z"
    },
    "papermill": {
     "duration": 0.059081,
     "end_time": "2023-02-27T20:18:33.869987",
     "exception": false,
     "start_time": "2023-02-27T20:18:33.810906",
     "status": "completed"
    },
    "tags": []
   },
   "outputs": [
    {
     "data": {
      "text/html": [
       "<div>\n",
       "<style scoped>\n",
       "    .dataframe tbody tr th:only-of-type {\n",
       "        vertical-align: middle;\n",
       "    }\n",
       "\n",
       "    .dataframe tbody tr th {\n",
       "        vertical-align: top;\n",
       "    }\n",
       "\n",
       "    .dataframe thead th {\n",
       "        text-align: right;\n",
       "    }\n",
       "</style>\n",
       "<table border=\"1\" class=\"dataframe\">\n",
       "  <thead>\n",
       "    <tr style=\"text-align: right;\">\n",
       "      <th></th>\n",
       "      <th>Car_Name</th>\n",
       "      <th>Year</th>\n",
       "      <th>Selling_Price</th>\n",
       "      <th>Present_Price</th>\n",
       "      <th>Driven_kms</th>\n",
       "      <th>Fuel_Type</th>\n",
       "      <th>Selling_type</th>\n",
       "      <th>Transmission</th>\n",
       "      <th>Owner</th>\n",
       "    </tr>\n",
       "  </thead>\n",
       "  <tbody>\n",
       "    <tr>\n",
       "      <th>count</th>\n",
       "      <td>301</td>\n",
       "      <td>301.000000</td>\n",
       "      <td>301.000000</td>\n",
       "      <td>301.000000</td>\n",
       "      <td>301.000000</td>\n",
       "      <td>301</td>\n",
       "      <td>301</td>\n",
       "      <td>301</td>\n",
       "      <td>301.000000</td>\n",
       "    </tr>\n",
       "    <tr>\n",
       "      <th>unique</th>\n",
       "      <td>98</td>\n",
       "      <td>NaN</td>\n",
       "      <td>NaN</td>\n",
       "      <td>NaN</td>\n",
       "      <td>NaN</td>\n",
       "      <td>3</td>\n",
       "      <td>2</td>\n",
       "      <td>2</td>\n",
       "      <td>NaN</td>\n",
       "    </tr>\n",
       "    <tr>\n",
       "      <th>top</th>\n",
       "      <td>city</td>\n",
       "      <td>NaN</td>\n",
       "      <td>NaN</td>\n",
       "      <td>NaN</td>\n",
       "      <td>NaN</td>\n",
       "      <td>Petrol</td>\n",
       "      <td>Dealer</td>\n",
       "      <td>Manual</td>\n",
       "      <td>NaN</td>\n",
       "    </tr>\n",
       "    <tr>\n",
       "      <th>freq</th>\n",
       "      <td>26</td>\n",
       "      <td>NaN</td>\n",
       "      <td>NaN</td>\n",
       "      <td>NaN</td>\n",
       "      <td>NaN</td>\n",
       "      <td>239</td>\n",
       "      <td>195</td>\n",
       "      <td>261</td>\n",
       "      <td>NaN</td>\n",
       "    </tr>\n",
       "    <tr>\n",
       "      <th>mean</th>\n",
       "      <td>NaN</td>\n",
       "      <td>2013.627907</td>\n",
       "      <td>4.661296</td>\n",
       "      <td>7.628472</td>\n",
       "      <td>36947.205980</td>\n",
       "      <td>NaN</td>\n",
       "      <td>NaN</td>\n",
       "      <td>NaN</td>\n",
       "      <td>0.043189</td>\n",
       "    </tr>\n",
       "    <tr>\n",
       "      <th>std</th>\n",
       "      <td>NaN</td>\n",
       "      <td>2.891554</td>\n",
       "      <td>5.082812</td>\n",
       "      <td>8.642584</td>\n",
       "      <td>38886.883882</td>\n",
       "      <td>NaN</td>\n",
       "      <td>NaN</td>\n",
       "      <td>NaN</td>\n",
       "      <td>0.247915</td>\n",
       "    </tr>\n",
       "    <tr>\n",
       "      <th>min</th>\n",
       "      <td>NaN</td>\n",
       "      <td>2003.000000</td>\n",
       "      <td>0.100000</td>\n",
       "      <td>0.320000</td>\n",
       "      <td>500.000000</td>\n",
       "      <td>NaN</td>\n",
       "      <td>NaN</td>\n",
       "      <td>NaN</td>\n",
       "      <td>0.000000</td>\n",
       "    </tr>\n",
       "    <tr>\n",
       "      <th>25%</th>\n",
       "      <td>NaN</td>\n",
       "      <td>2012.000000</td>\n",
       "      <td>0.900000</td>\n",
       "      <td>1.200000</td>\n",
       "      <td>15000.000000</td>\n",
       "      <td>NaN</td>\n",
       "      <td>NaN</td>\n",
       "      <td>NaN</td>\n",
       "      <td>0.000000</td>\n",
       "    </tr>\n",
       "    <tr>\n",
       "      <th>50%</th>\n",
       "      <td>NaN</td>\n",
       "      <td>2014.000000</td>\n",
       "      <td>3.600000</td>\n",
       "      <td>6.400000</td>\n",
       "      <td>32000.000000</td>\n",
       "      <td>NaN</td>\n",
       "      <td>NaN</td>\n",
       "      <td>NaN</td>\n",
       "      <td>0.000000</td>\n",
       "    </tr>\n",
       "    <tr>\n",
       "      <th>75%</th>\n",
       "      <td>NaN</td>\n",
       "      <td>2016.000000</td>\n",
       "      <td>6.000000</td>\n",
       "      <td>9.900000</td>\n",
       "      <td>48767.000000</td>\n",
       "      <td>NaN</td>\n",
       "      <td>NaN</td>\n",
       "      <td>NaN</td>\n",
       "      <td>0.000000</td>\n",
       "    </tr>\n",
       "    <tr>\n",
       "      <th>max</th>\n",
       "      <td>NaN</td>\n",
       "      <td>2018.000000</td>\n",
       "      <td>35.000000</td>\n",
       "      <td>92.600000</td>\n",
       "      <td>500000.000000</td>\n",
       "      <td>NaN</td>\n",
       "      <td>NaN</td>\n",
       "      <td>NaN</td>\n",
       "      <td>3.000000</td>\n",
       "    </tr>\n",
       "  </tbody>\n",
       "</table>\n",
       "</div>"
      ],
      "text/plain": [
       "       Car_Name         Year  Selling_Price  Present_Price     Driven_kms  \\\n",
       "count       301   301.000000     301.000000     301.000000     301.000000   \n",
       "unique       98          NaN            NaN            NaN            NaN   \n",
       "top        city          NaN            NaN            NaN            NaN   \n",
       "freq         26          NaN            NaN            NaN            NaN   \n",
       "mean        NaN  2013.627907       4.661296       7.628472   36947.205980   \n",
       "std         NaN     2.891554       5.082812       8.642584   38886.883882   \n",
       "min         NaN  2003.000000       0.100000       0.320000     500.000000   \n",
       "25%         NaN  2012.000000       0.900000       1.200000   15000.000000   \n",
       "50%         NaN  2014.000000       3.600000       6.400000   32000.000000   \n",
       "75%         NaN  2016.000000       6.000000       9.900000   48767.000000   \n",
       "max         NaN  2018.000000      35.000000      92.600000  500000.000000   \n",
       "\n",
       "       Fuel_Type Selling_type Transmission       Owner  \n",
       "count        301          301          301  301.000000  \n",
       "unique         3            2            2         NaN  \n",
       "top       Petrol       Dealer       Manual         NaN  \n",
       "freq         239          195          261         NaN  \n",
       "mean         NaN          NaN          NaN    0.043189  \n",
       "std          NaN          NaN          NaN    0.247915  \n",
       "min          NaN          NaN          NaN    0.000000  \n",
       "25%          NaN          NaN          NaN    0.000000  \n",
       "50%          NaN          NaN          NaN    0.000000  \n",
       "75%          NaN          NaN          NaN    0.000000  \n",
       "max          NaN          NaN          NaN    3.000000  "
      ]
     },
     "execution_count": 3,
     "metadata": {},
     "output_type": "execute_result"
    }
   ],
   "source": [
    "df.describe(include='all')"
   ]
  },
  {
   "cell_type": "code",
   "execution_count": 4,
   "id": "15eec5c0",
   "metadata": {
    "execution": {
     "iopub.execute_input": "2023-02-27T20:18:33.893736Z",
     "iopub.status.busy": "2023-02-27T20:18:33.893335Z",
     "iopub.status.idle": "2023-02-27T20:18:33.910104Z",
     "shell.execute_reply": "2023-02-27T20:18:33.908462Z"
    },
    "papermill": {
     "duration": 0.031774,
     "end_time": "2023-02-27T20:18:33.912776",
     "exception": false,
     "start_time": "2023-02-27T20:18:33.881002",
     "status": "completed"
    },
    "tags": []
   },
   "outputs": [
    {
     "name": "stdout",
     "output_type": "stream",
     "text": [
      "<class 'pandas.core.frame.DataFrame'>\n",
      "RangeIndex: 301 entries, 0 to 300\n",
      "Data columns (total 9 columns):\n",
      " #   Column         Non-Null Count  Dtype  \n",
      "---  ------         --------------  -----  \n",
      " 0   Car_Name       301 non-null    object \n",
      " 1   Year           301 non-null    int64  \n",
      " 2   Selling_Price  301 non-null    float64\n",
      " 3   Present_Price  301 non-null    float64\n",
      " 4   Driven_kms     301 non-null    int64  \n",
      " 5   Fuel_Type      301 non-null    object \n",
      " 6   Selling_type   301 non-null    object \n",
      " 7   Transmission   301 non-null    object \n",
      " 8   Owner          301 non-null    int64  \n",
      "dtypes: float64(2), int64(3), object(4)\n",
      "memory usage: 21.3+ KB\n"
     ]
    }
   ],
   "source": [
    "df.info()"
   ]
  },
  {
   "cell_type": "code",
   "execution_count": 5,
   "id": "f09636eb",
   "metadata": {
    "execution": {
     "iopub.execute_input": "2023-02-27T20:18:33.938810Z",
     "iopub.status.busy": "2023-02-27T20:18:33.938248Z",
     "iopub.status.idle": "2023-02-27T20:18:33.966932Z",
     "shell.execute_reply": "2023-02-27T20:18:33.965886Z"
    },
    "papermill": {
     "duration": 0.045468,
     "end_time": "2023-02-27T20:18:33.969394",
     "exception": false,
     "start_time": "2023-02-27T20:18:33.923926",
     "status": "completed"
    },
    "tags": []
   },
   "outputs": [
    {
     "data": {
      "text/html": [
       "<div>\n",
       "<style scoped>\n",
       "    .dataframe tbody tr th:only-of-type {\n",
       "        vertical-align: middle;\n",
       "    }\n",
       "\n",
       "    .dataframe tbody tr th {\n",
       "        vertical-align: top;\n",
       "    }\n",
       "\n",
       "    .dataframe thead th {\n",
       "        text-align: right;\n",
       "    }\n",
       "</style>\n",
       "<table border=\"1\" class=\"dataframe\">\n",
       "  <thead>\n",
       "    <tr style=\"text-align: right;\">\n",
       "      <th></th>\n",
       "      <th>Year</th>\n",
       "      <th>Selling_Price</th>\n",
       "      <th>Present_Price</th>\n",
       "      <th>Driven_kms</th>\n",
       "      <th>Owner</th>\n",
       "    </tr>\n",
       "  </thead>\n",
       "  <tbody>\n",
       "    <tr>\n",
       "      <th>count</th>\n",
       "      <td>301.000000</td>\n",
       "      <td>301.000000</td>\n",
       "      <td>301.000000</td>\n",
       "      <td>301.000000</td>\n",
       "      <td>301.000000</td>\n",
       "    </tr>\n",
       "    <tr>\n",
       "      <th>mean</th>\n",
       "      <td>2013.627907</td>\n",
       "      <td>4.661296</td>\n",
       "      <td>7.628472</td>\n",
       "      <td>36947.205980</td>\n",
       "      <td>0.043189</td>\n",
       "    </tr>\n",
       "    <tr>\n",
       "      <th>std</th>\n",
       "      <td>2.891554</td>\n",
       "      <td>5.082812</td>\n",
       "      <td>8.642584</td>\n",
       "      <td>38886.883882</td>\n",
       "      <td>0.247915</td>\n",
       "    </tr>\n",
       "    <tr>\n",
       "      <th>min</th>\n",
       "      <td>2003.000000</td>\n",
       "      <td>0.100000</td>\n",
       "      <td>0.320000</td>\n",
       "      <td>500.000000</td>\n",
       "      <td>0.000000</td>\n",
       "    </tr>\n",
       "    <tr>\n",
       "      <th>25%</th>\n",
       "      <td>2012.000000</td>\n",
       "      <td>0.900000</td>\n",
       "      <td>1.200000</td>\n",
       "      <td>15000.000000</td>\n",
       "      <td>0.000000</td>\n",
       "    </tr>\n",
       "    <tr>\n",
       "      <th>50%</th>\n",
       "      <td>2014.000000</td>\n",
       "      <td>3.600000</td>\n",
       "      <td>6.400000</td>\n",
       "      <td>32000.000000</td>\n",
       "      <td>0.000000</td>\n",
       "    </tr>\n",
       "    <tr>\n",
       "      <th>75%</th>\n",
       "      <td>2016.000000</td>\n",
       "      <td>6.000000</td>\n",
       "      <td>9.900000</td>\n",
       "      <td>48767.000000</td>\n",
       "      <td>0.000000</td>\n",
       "    </tr>\n",
       "    <tr>\n",
       "      <th>90%</th>\n",
       "      <td>2017.000000</td>\n",
       "      <td>9.500000</td>\n",
       "      <td>14.790000</td>\n",
       "      <td>65000.000000</td>\n",
       "      <td>0.000000</td>\n",
       "    </tr>\n",
       "    <tr>\n",
       "      <th>95%</th>\n",
       "      <td>2017.000000</td>\n",
       "      <td>14.500000</td>\n",
       "      <td>22.780000</td>\n",
       "      <td>80000.000000</td>\n",
       "      <td>0.000000</td>\n",
       "    </tr>\n",
       "    <tr>\n",
       "      <th>99%</th>\n",
       "      <td>2017.000000</td>\n",
       "      <td>23.000000</td>\n",
       "      <td>35.960000</td>\n",
       "      <td>142000.000000</td>\n",
       "      <td>1.000000</td>\n",
       "    </tr>\n",
       "    <tr>\n",
       "      <th>max</th>\n",
       "      <td>2018.000000</td>\n",
       "      <td>35.000000</td>\n",
       "      <td>92.600000</td>\n",
       "      <td>500000.000000</td>\n",
       "      <td>3.000000</td>\n",
       "    </tr>\n",
       "  </tbody>\n",
       "</table>\n",
       "</div>"
      ],
      "text/plain": [
       "              Year  Selling_Price  Present_Price     Driven_kms       Owner\n",
       "count   301.000000     301.000000     301.000000     301.000000  301.000000\n",
       "mean   2013.627907       4.661296       7.628472   36947.205980    0.043189\n",
       "std       2.891554       5.082812       8.642584   38886.883882    0.247915\n",
       "min    2003.000000       0.100000       0.320000     500.000000    0.000000\n",
       "25%    2012.000000       0.900000       1.200000   15000.000000    0.000000\n",
       "50%    2014.000000       3.600000       6.400000   32000.000000    0.000000\n",
       "75%    2016.000000       6.000000       9.900000   48767.000000    0.000000\n",
       "90%    2017.000000       9.500000      14.790000   65000.000000    0.000000\n",
       "95%    2017.000000      14.500000      22.780000   80000.000000    0.000000\n",
       "99%    2017.000000      23.000000      35.960000  142000.000000    1.000000\n",
       "max    2018.000000      35.000000      92.600000  500000.000000    3.000000"
      ]
     },
     "execution_count": 5,
     "metadata": {},
     "output_type": "execute_result"
    }
   ],
   "source": [
    "# To check if there are any outliers\n",
    "# Here we conclude that we don't have any outliers.\n",
    "df.describe(percentiles=[0.25,0.5,0.75,0.9,0.95,0.99])"
   ]
  },
  {
   "cell_type": "markdown",
   "id": "5d3e4b5c",
   "metadata": {
    "papermill": {
     "duration": 0.011042,
     "end_time": "2023-02-27T20:18:33.991949",
     "exception": false,
     "start_time": "2023-02-27T20:18:33.980907",
     "status": "completed"
    },
    "tags": []
   },
   "source": [
    "# Feature Engineering"
   ]
  },
  {
   "cell_type": "code",
   "execution_count": 6,
   "id": "0f8e933f",
   "metadata": {
    "execution": {
     "iopub.execute_input": "2023-02-27T20:18:34.017660Z",
     "iopub.status.busy": "2023-02-27T20:18:34.016161Z",
     "iopub.status.idle": "2023-02-27T20:18:34.025175Z",
     "shell.execute_reply": "2023-02-27T20:18:34.023880Z"
    },
    "papermill": {
     "duration": 0.024363,
     "end_time": "2023-02-27T20:18:34.027639",
     "exception": false,
     "start_time": "2023-02-27T20:18:34.003276",
     "status": "completed"
    },
    "tags": []
   },
   "outputs": [],
   "source": [
    "# Creating a new feature called 'Car_age', It's important to know how many years old the car is.\n",
    "df['Car_age'] = 2023-df['Year']\n",
    "df.drop('Year',axis=1,inplace=True)"
   ]
  },
  {
   "cell_type": "code",
   "execution_count": 7,
   "id": "66f76fbb",
   "metadata": {
    "execution": {
     "iopub.execute_input": "2023-02-27T20:18:34.052849Z",
     "iopub.status.busy": "2023-02-27T20:18:34.052111Z",
     "iopub.status.idle": "2023-02-27T20:18:34.067007Z",
     "shell.execute_reply": "2023-02-27T20:18:34.065837Z"
    },
    "papermill": {
     "duration": 0.030192,
     "end_time": "2023-02-27T20:18:34.069358",
     "exception": false,
     "start_time": "2023-02-27T20:18:34.039166",
     "status": "completed"
    },
    "tags": []
   },
   "outputs": [
    {
     "data": {
      "text/html": [
       "<div>\n",
       "<style scoped>\n",
       "    .dataframe tbody tr th:only-of-type {\n",
       "        vertical-align: middle;\n",
       "    }\n",
       "\n",
       "    .dataframe tbody tr th {\n",
       "        vertical-align: top;\n",
       "    }\n",
       "\n",
       "    .dataframe thead th {\n",
       "        text-align: right;\n",
       "    }\n",
       "</style>\n",
       "<table border=\"1\" class=\"dataframe\">\n",
       "  <thead>\n",
       "    <tr style=\"text-align: right;\">\n",
       "      <th></th>\n",
       "      <th>Car_Name</th>\n",
       "      <th>Selling_Price</th>\n",
       "      <th>Present_Price</th>\n",
       "      <th>Driven_kms</th>\n",
       "      <th>Fuel_Type</th>\n",
       "      <th>Selling_type</th>\n",
       "      <th>Transmission</th>\n",
       "      <th>Owner</th>\n",
       "      <th>Car_age</th>\n",
       "    </tr>\n",
       "  </thead>\n",
       "  <tbody>\n",
       "    <tr>\n",
       "      <th>0</th>\n",
       "      <td>ritz</td>\n",
       "      <td>3.35</td>\n",
       "      <td>5.59</td>\n",
       "      <td>27000</td>\n",
       "      <td>Petrol</td>\n",
       "      <td>Dealer</td>\n",
       "      <td>Manual</td>\n",
       "      <td>0</td>\n",
       "      <td>9</td>\n",
       "    </tr>\n",
       "    <tr>\n",
       "      <th>1</th>\n",
       "      <td>sx4</td>\n",
       "      <td>4.75</td>\n",
       "      <td>9.54</td>\n",
       "      <td>43000</td>\n",
       "      <td>Diesel</td>\n",
       "      <td>Dealer</td>\n",
       "      <td>Manual</td>\n",
       "      <td>0</td>\n",
       "      <td>10</td>\n",
       "    </tr>\n",
       "    <tr>\n",
       "      <th>2</th>\n",
       "      <td>ciaz</td>\n",
       "      <td>7.25</td>\n",
       "      <td>9.85</td>\n",
       "      <td>6900</td>\n",
       "      <td>Petrol</td>\n",
       "      <td>Dealer</td>\n",
       "      <td>Manual</td>\n",
       "      <td>0</td>\n",
       "      <td>6</td>\n",
       "    </tr>\n",
       "    <tr>\n",
       "      <th>3</th>\n",
       "      <td>wagon r</td>\n",
       "      <td>2.85</td>\n",
       "      <td>4.15</td>\n",
       "      <td>5200</td>\n",
       "      <td>Petrol</td>\n",
       "      <td>Dealer</td>\n",
       "      <td>Manual</td>\n",
       "      <td>0</td>\n",
       "      <td>12</td>\n",
       "    </tr>\n",
       "    <tr>\n",
       "      <th>4</th>\n",
       "      <td>swift</td>\n",
       "      <td>4.60</td>\n",
       "      <td>6.87</td>\n",
       "      <td>42450</td>\n",
       "      <td>Diesel</td>\n",
       "      <td>Dealer</td>\n",
       "      <td>Manual</td>\n",
       "      <td>0</td>\n",
       "      <td>9</td>\n",
       "    </tr>\n",
       "  </tbody>\n",
       "</table>\n",
       "</div>"
      ],
      "text/plain": [
       "  Car_Name  Selling_Price  Present_Price  Driven_kms Fuel_Type Selling_type  \\\n",
       "0     ritz           3.35           5.59       27000    Petrol       Dealer   \n",
       "1      sx4           4.75           9.54       43000    Diesel       Dealer   \n",
       "2     ciaz           7.25           9.85        6900    Petrol       Dealer   \n",
       "3  wagon r           2.85           4.15        5200    Petrol       Dealer   \n",
       "4    swift           4.60           6.87       42450    Diesel       Dealer   \n",
       "\n",
       "  Transmission  Owner  Car_age  \n",
       "0       Manual      0        9  \n",
       "1       Manual      0       10  \n",
       "2       Manual      0        6  \n",
       "3       Manual      0       12  \n",
       "4       Manual      0        9  "
      ]
     },
     "execution_count": 7,
     "metadata": {},
     "output_type": "execute_result"
    }
   ],
   "source": [
    "df.head()"
   ]
  },
  {
   "cell_type": "markdown",
   "id": "ec6b55e1",
   "metadata": {
    "papermill": {
     "duration": 0.011286,
     "end_time": "2023-02-27T20:18:34.092424",
     "exception": false,
     "start_time": "2023-02-27T20:18:34.081138",
     "status": "completed"
    },
    "tags": []
   },
   "source": [
    "# Exploratory Data Analysis\n",
    "\n",
    "**1. Data Visualization**"
   ]
  },
  {
   "cell_type": "code",
   "execution_count": 8,
   "id": "99bf0d57",
   "metadata": {
    "execution": {
     "iopub.execute_input": "2023-02-27T20:18:34.117182Z",
     "iopub.status.busy": "2023-02-27T20:18:34.116756Z",
     "iopub.status.idle": "2023-02-27T20:18:35.016586Z",
     "shell.execute_reply": "2023-02-27T20:18:35.015755Z"
    },
    "papermill": {
     "duration": 0.91568,
     "end_time": "2023-02-27T20:18:35.019543",
     "exception": false,
     "start_time": "2023-02-27T20:18:34.103863",
     "status": "completed"
    },
    "tags": []
   },
   "outputs": [
    {
     "data": {
      "image/png": "[encoded data removed]",
      "text/plain": [
       "<Figure size 1500x1000 with 4 Axes>"
      ]
     },
     "metadata": {},
     "output_type": "display_data"
    }
   ],
   "source": [
    "# Seller Type, Transmission and Fuel Type Visualization with target variable\n",
    "plt.figure(figsize=(15,10))\n",
    "plt.subplot(2,2,1)\n",
    "sns.barplot(data=df,x='Selling_type',y='Selling_Price')\n",
    "plt.title('Selling Price Vs Seller Type')\n",
    "\n",
    "plt.subplot(2,2,2)\n",
    "sns.barplot(data=df,x='Transmission',y='Selling_Price')\n",
    "plt.title('Selling Price Vs Transmission')\n",
    "\n",
    "plt.subplot(2,2,3)\n",
    "sns.barplot(data=df,x='Fuel_Type',y='Selling_Price')\n",
    "plt.title('Selling Price Vs Fuel Type')\n",
    "\n",
    "plt.subplot(2,2,4)\n",
    "sns.barplot(data=df,x='Owner',y='Selling_Price')\n",
    "plt.title('Selling Price Vs Nb of Owner')\n",
    "plt.tight_layout()\n",
    "plt.show()"
   ]
  },
  {
   "cell_type": "markdown",
   "id": "8b359cd0",
   "metadata": {
    "papermill": {
     "duration": 0.012843,
     "end_time": "2023-02-27T20:18:35.045645",
     "exception": false,
     "start_time": "2023-02-27T20:18:35.032802",
     "status": "completed"
    },
    "tags": []
   },
   "source": [
    "**Observations:**\n",
    "* We have higher Selling Price when sold by Dealers compared to Individuals\n",
    "* Selling Price would be higher for cars that are Automatic.\n",
    "* Selling Price of cars with Fuel Type of Diesel is higher than Petrol and CNG\n",
    "* Selling Price is high with less Owners used Cars "
   ]
  },
  {
   "cell_type": "code",
   "execution_count": 9,
   "id": "985448df",
   "metadata": {
    "execution": {
     "iopub.execute_input": "2023-02-27T20:18:35.073396Z",
     "iopub.status.busy": "2023-02-27T20:18:35.072976Z",
     "iopub.status.idle": "2023-02-27T20:18:35.768443Z",
     "shell.execute_reply": "2023-02-27T20:18:35.767158Z"
    },
    "papermill": {
     "duration": 0.712664,
     "end_time": "2023-02-27T20:18:35.771257",
     "exception": false,
     "start_time": "2023-02-27T20:18:35.058593",
     "status": "completed"
    },
    "tags": []
   },
   "outputs": [
    {
     "data": {
      "text/plain": [
       "Text(0.5, 1.0, 'Selling Price Vs Car Age')"
      ]
     },
     "execution_count": 9,
     "metadata": {},
     "output_type": "execute_result"
    },
    {
     "data": {
      "image/png": "[encoded data removed]",
      "text/plain": [
       "<Figure size 1500x700 with 1 Axes>"
      ]
     },
     "metadata": {},
     "output_type": "display_data"
    }
   ],
   "source": [
    "plt.figure(figsize=(15,7))\n",
    "sns.barplot(data=df,x='Car_age',y='Selling_Price')\n",
    "plt.title('Selling Price Vs Car Age')"
   ]
  },
  {
   "cell_type": "markdown",
   "id": "387ad426",
   "metadata": {
    "papermill": {
     "duration": 0.013299,
     "end_time": "2023-02-27T20:18:35.798584",
     "exception": false,
     "start_time": "2023-02-27T20:18:35.785285",
     "status": "completed"
    },
    "tags": []
   },
   "source": [
    "**Observations:**\n",
    "* Selling Price of cars 5 years old would be high and gradually decreases with car of 20 years old "
   ]
  },
  {
   "cell_type": "code",
   "execution_count": 10,
   "id": "0e52a335",
   "metadata": {
    "execution": {
     "iopub.execute_input": "2023-02-27T20:18:35.828408Z",
     "iopub.status.busy": "2023-02-27T20:18:35.827743Z",
     "iopub.status.idle": "2023-02-27T20:18:36.446342Z",
     "shell.execute_reply": "2023-02-27T20:18:36.445030Z"
    },
    "papermill": {
     "duration": 0.637488,
     "end_time": "2023-02-27T20:18:36.449716",
     "exception": false,
     "start_time": "2023-02-27T20:18:35.812228",
     "status": "completed"
    },
    "tags": []
   },
   "outputs": [
    {
     "data": {
      "image/png": "[encoded data removed]",
      "text/plain": [
       "<Figure size 1500x500 with 2 Axes>"
      ]
     },
     "metadata": {},
     "output_type": "display_data"
    }
   ],
   "source": [
    "plt.figure(figsize=(15,5))\n",
    "plt.subplot(1,2,1)\n",
    "sns.regplot(data=df,x='Driven_kms',y='Selling_Price')\n",
    "plt.title('Selling Price Vs Driven Distence')\n",
    "\n",
    "plt.subplot(1,2,2)\n",
    "sns.regplot(data=df,x='Present_Price',y='Selling_Price')\n",
    "plt.title('Selling Price Vs Present Price')\n",
    "plt.show()"
   ]
  },
  {
   "cell_type": "markdown",
   "id": "5cec4610",
   "metadata": {
    "papermill": {
     "duration": 0.017184,
     "end_time": "2023-02-27T20:18:36.485859",
     "exception": false,
     "start_time": "2023-02-27T20:18:36.468675",
     "status": "completed"
    },
    "tags": []
   },
   "source": [
    "**Observations:**\n",
    "* Lesser the driven distance, higher the Selling Price\n",
    "* Selling Price tends to increase with increase in the Present Price of cars"
   ]
  },
  {
   "cell_type": "markdown",
   "id": "6afd32c4",
   "metadata": {
    "papermill": {
     "duration": 0.015175,
     "end_time": "2023-02-27T20:18:36.516591",
     "exception": false,
     "start_time": "2023-02-27T20:18:36.501416",
     "status": "completed"
    },
    "tags": []
   },
   "source": [
    "**2. Dealing with Categorical Variables**"
   ]
  },
  {
   "cell_type": "code",
   "execution_count": 11,
   "id": "4e239d6d",
   "metadata": {
    "execution": {
     "iopub.execute_input": "2023-02-27T20:18:36.549229Z",
     "iopub.status.busy": "2023-02-27T20:18:36.548839Z",
     "iopub.status.idle": "2023-02-27T20:18:36.556660Z",
     "shell.execute_reply": "2023-02-27T20:18:36.555494Z"
    },
    "papermill": {
     "duration": 0.028028,
     "end_time": "2023-02-27T20:18:36.560126",
     "exception": false,
     "start_time": "2023-02-27T20:18:36.532098",
     "status": "completed"
    },
    "tags": []
   },
   "outputs": [
    {
     "name": "stdout",
     "output_type": "stream",
     "text": [
      "['Petrol' 'Diesel' 'CNG']\n",
      "['Dealer' 'Individual']\n",
      "['Manual' 'Automatic']\n",
      "['ritz' 'sx4' 'ciaz' 'wagon r' 'swift' 'vitara brezza' 's cross'\n",
      " 'alto 800' 'ertiga' 'dzire' 'alto k10' 'ignis' '800' 'baleno' 'omni'\n",
      " 'fortuner' 'innova' 'corolla altis' 'etios cross' 'etios g' 'etios liva'\n",
      " 'corolla' 'etios gd' 'camry' 'land cruiser' 'Royal Enfield Thunder 500'\n",
      " 'UM Renegade Mojave' 'KTM RC200' 'Bajaj Dominar 400'\n",
      " 'Royal Enfield Classic 350' 'KTM RC390' 'Hyosung GT250R'\n",
      " 'Royal Enfield Thunder 350' 'KTM 390 Duke ' 'Mahindra Mojo XT300'\n",
      " 'Bajaj Pulsar RS200' 'Royal Enfield Bullet 350'\n",
      " 'Royal Enfield Classic 500' 'Bajaj Avenger 220' 'Bajaj Avenger 150'\n",
      " 'Honda CB Hornet 160R' 'Yamaha FZ S V 2.0' 'Yamaha FZ 16'\n",
      " 'TVS Apache RTR 160' 'Bajaj Pulsar 150' 'Honda CBR 150' 'Hero Extreme'\n",
      " 'Bajaj Avenger 220 dtsi' 'Bajaj Avenger 150 street' 'Yamaha FZ  v 2.0'\n",
      " 'Bajaj Pulsar  NS 200' 'Bajaj Pulsar 220 F' 'TVS Apache RTR 180'\n",
      " 'Hero Passion X pro' 'Bajaj Pulsar NS 200' 'Yamaha Fazer '\n",
      " 'Honda Activa 4G' 'TVS Sport ' 'Honda Dream Yuga '\n",
      " 'Bajaj Avenger Street 220' 'Hero Splender iSmart' 'Activa 3g'\n",
      " 'Hero Passion Pro' 'Honda CB Trigger' 'Yamaha FZ S '\n",
      " 'Bajaj Pulsar 135 LS' 'Activa 4g' 'Honda CB Unicorn'\n",
      " 'Hero Honda CBZ extreme' 'Honda Karizma' 'Honda Activa 125' 'TVS Jupyter'\n",
      " 'Hero Honda Passion Pro' 'Hero Splender Plus' 'Honda CB Shine'\n",
      " 'Bajaj Discover 100' 'Suzuki Access 125' 'TVS Wego' 'Honda CB twister'\n",
      " 'Hero Glamour' 'Hero Super Splendor' 'Bajaj Discover 125' 'Hero Hunk'\n",
      " 'Hero  Ignitor Disc' 'Hero  CBZ Xtreme' 'Bajaj  ct 100' 'i20' 'grand i10'\n",
      " 'i10' 'eon' 'xcent' 'elantra' 'creta' 'verna' 'city' 'brio' 'amaze'\n",
      " 'jazz']\n"
     ]
    }
   ],
   "source": [
    "cat_col = ['Fuel_Type','Selling_type','Transmission','Car_Name']\n",
    "for i in cat_col:\n",
    "    print(df[i].unique())"
   ]
  },
  {
   "cell_type": "code",
   "execution_count": 12,
   "id": "28f0d9d2",
   "metadata": {
    "execution": {
     "iopub.execute_input": "2023-02-27T20:18:36.594737Z",
     "iopub.status.busy": "2023-02-27T20:18:36.593580Z",
     "iopub.status.idle": "2023-02-27T20:18:36.600260Z",
     "shell.execute_reply": "2023-02-27T20:18:36.599224Z"
    },
    "papermill": {
     "duration": 0.025795,
     "end_time": "2023-02-27T20:18:36.602510",
     "exception": false,
     "start_time": "2023-02-27T20:18:36.576715",
     "status": "completed"
    },
    "tags": []
   },
   "outputs": [],
   "source": [
    "# In Car Name column There are three hundred and twelve unique name. \n",
    "# That's something really hard to implement and a regression that would mean more than 300 dummies, so we simply drop this column\n",
    "df = df.drop(labels='Car_Name', axis=1)"
   ]
  },
  {
   "cell_type": "code",
   "execution_count": 13,
   "id": "e5285ea4",
   "metadata": {
    "execution": {
     "iopub.execute_input": "2023-02-27T20:18:36.636401Z",
     "iopub.status.busy": "2023-02-27T20:18:36.635234Z",
     "iopub.status.idle": "2023-02-27T20:18:36.657791Z",
     "shell.execute_reply": "2023-02-27T20:18:36.656615Z"
    },
    "papermill": {
     "duration": 0.041887,
     "end_time": "2023-02-27T20:18:36.660143",
     "exception": false,
     "start_time": "2023-02-27T20:18:36.618256",
     "status": "completed"
    },
    "tags": []
   },
   "outputs": [
    {
     "data": {
      "text/html": [
       "<div>\n",
       "<style scoped>\n",
       "    .dataframe tbody tr th:only-of-type {\n",
       "        vertical-align: middle;\n",
       "    }\n",
       "\n",
       "    .dataframe tbody tr th {\n",
       "        vertical-align: top;\n",
       "    }\n",
       "\n",
       "    .dataframe thead th {\n",
       "        text-align: right;\n",
       "    }\n",
       "</style>\n",
       "<table border=\"1\" class=\"dataframe\">\n",
       "  <thead>\n",
       "    <tr style=\"text-align: right;\">\n",
       "      <th></th>\n",
       "      <th>Selling_Price</th>\n",
       "      <th>Present_Price</th>\n",
       "      <th>Driven_kms</th>\n",
       "      <th>Owner</th>\n",
       "      <th>Car_age</th>\n",
       "      <th>Fuel_Type__Diesel</th>\n",
       "      <th>Fuel_Type__Petrol</th>\n",
       "      <th>Selling_type__Individual</th>\n",
       "      <th>Transmission__Manual</th>\n",
       "    </tr>\n",
       "  </thead>\n",
       "  <tbody>\n",
       "    <tr>\n",
       "      <th>0</th>\n",
       "      <td>3.35</td>\n",
       "      <td>5.59</td>\n",
       "      <td>27000</td>\n",
       "      <td>0</td>\n",
       "      <td>9</td>\n",
       "      <td>0</td>\n",
       "      <td>1</td>\n",
       "      <td>0</td>\n",
       "      <td>1</td>\n",
       "    </tr>\n",
       "    <tr>\n",
       "      <th>1</th>\n",
       "      <td>4.75</td>\n",
       "      <td>9.54</td>\n",
       "      <td>43000</td>\n",
       "      <td>0</td>\n",
       "      <td>10</td>\n",
       "      <td>1</td>\n",
       "      <td>0</td>\n",
       "      <td>0</td>\n",
       "      <td>1</td>\n",
       "    </tr>\n",
       "    <tr>\n",
       "      <th>2</th>\n",
       "      <td>7.25</td>\n",
       "      <td>9.85</td>\n",
       "      <td>6900</td>\n",
       "      <td>0</td>\n",
       "      <td>6</td>\n",
       "      <td>0</td>\n",
       "      <td>1</td>\n",
       "      <td>0</td>\n",
       "      <td>1</td>\n",
       "    </tr>\n",
       "    <tr>\n",
       "      <th>3</th>\n",
       "      <td>2.85</td>\n",
       "      <td>4.15</td>\n",
       "      <td>5200</td>\n",
       "      <td>0</td>\n",
       "      <td>12</td>\n",
       "      <td>0</td>\n",
       "      <td>1</td>\n",
       "      <td>0</td>\n",
       "      <td>1</td>\n",
       "    </tr>\n",
       "    <tr>\n",
       "      <th>4</th>\n",
       "      <td>4.60</td>\n",
       "      <td>6.87</td>\n",
       "      <td>42450</td>\n",
       "      <td>0</td>\n",
       "      <td>9</td>\n",
       "      <td>1</td>\n",
       "      <td>0</td>\n",
       "      <td>0</td>\n",
       "      <td>1</td>\n",
       "    </tr>\n",
       "  </tbody>\n",
       "</table>\n",
       "</div>"
      ],
      "text/plain": [
       "   Selling_Price  Present_Price  Driven_kms  Owner  Car_age  \\\n",
       "0           3.35           5.59       27000      0        9   \n",
       "1           4.75           9.54       43000      0       10   \n",
       "2           7.25           9.85        6900      0        6   \n",
       "3           2.85           4.15        5200      0       12   \n",
       "4           4.60           6.87       42450      0        9   \n",
       "\n",
       "   Fuel_Type__Diesel  Fuel_Type__Petrol  Selling_type__Individual  \\\n",
       "0                  0                  1                         0   \n",
       "1                  1                  0                         0   \n",
       "2                  0                  1                         0   \n",
       "3                  0                  1                         0   \n",
       "4                  1                  0                         0   \n",
       "\n",
       "   Transmission__Manual  \n",
       "0                     1  \n",
       "1                     1  \n",
       "2                     1  \n",
       "3                     1  \n",
       "4                     1  "
      ]
     },
     "execution_count": 13,
     "metadata": {},
     "output_type": "execute_result"
    }
   ],
   "source": [
    "# Dealing With Categorical Variables, creating dummie\n",
    "col = ['Fuel_Type','Selling_type','Transmission']\n",
    "df_new = pd.concat([df]+[pd.get_dummies(df[i],drop_first=True,prefix=i+'_') for i in col],axis=1)\n",
    "df_new.drop(['Fuel_Type','Selling_type','Transmission'],axis=1,inplace=True)\n",
    "df_new.head()"
   ]
  },
  {
   "cell_type": "markdown",
   "id": "65f051f6",
   "metadata": {
    "papermill": {
     "duration": 0.015331,
     "end_time": "2023-02-27T20:18:36.691201",
     "exception": false,
     "start_time": "2023-02-27T20:18:36.675870",
     "status": "completed"
    },
    "tags": []
   },
   "source": [
    "# Checking Multicollinearity Using VIF"
   ]
  },
  {
   "cell_type": "code",
   "execution_count": 14,
   "id": "683e0570",
   "metadata": {
    "execution": {
     "iopub.execute_input": "2023-02-27T20:18:36.725110Z",
     "iopub.status.busy": "2023-02-27T20:18:36.724226Z",
     "iopub.status.idle": "2023-02-27T20:18:36.961951Z",
     "shell.execute_reply": "2023-02-27T20:18:36.960849Z"
    },
    "papermill": {
     "duration": 0.257725,
     "end_time": "2023-02-27T20:18:36.964481",
     "exception": false,
     "start_time": "2023-02-27T20:18:36.706756",
     "status": "completed"
    },
    "tags": []
   },
   "outputs": [
    {
     "data": {
      "text/html": [
       "<div>\n",
       "<style scoped>\n",
       "    .dataframe tbody tr th:only-of-type {\n",
       "        vertical-align: middle;\n",
       "    }\n",
       "\n",
       "    .dataframe tbody tr th {\n",
       "        vertical-align: top;\n",
       "    }\n",
       "\n",
       "    .dataframe thead th {\n",
       "        text-align: right;\n",
       "    }\n",
       "</style>\n",
       "<table border=\"1\" class=\"dataframe\">\n",
       "  <thead>\n",
       "    <tr style=\"text-align: right;\">\n",
       "      <th></th>\n",
       "      <th>VIF</th>\n",
       "      <th>Features</th>\n",
       "    </tr>\n",
       "  </thead>\n",
       "  <tbody>\n",
       "    <tr>\n",
       "      <th>0</th>\n",
       "      <td>3.211044</td>\n",
       "      <td>Present_Price</td>\n",
       "    </tr>\n",
       "    <tr>\n",
       "      <th>1</th>\n",
       "      <td>2.888998</td>\n",
       "      <td>Driven_kms</td>\n",
       "    </tr>\n",
       "    <tr>\n",
       "      <th>2</th>\n",
       "      <td>1.086964</td>\n",
       "      <td>Owner</td>\n",
       "    </tr>\n",
       "    <tr>\n",
       "      <th>3</th>\n",
       "      <td>16.194782</td>\n",
       "      <td>Car_age</td>\n",
       "    </tr>\n",
       "    <tr>\n",
       "      <th>4</th>\n",
       "      <td>5.395420</td>\n",
       "      <td>Fuel_Type__Diesel</td>\n",
       "    </tr>\n",
       "    <tr>\n",
       "      <th>5</th>\n",
       "      <td>16.933491</td>\n",
       "      <td>Fuel_Type__Petrol</td>\n",
       "    </tr>\n",
       "    <tr>\n",
       "      <th>6</th>\n",
       "      <td>2.231970</td>\n",
       "      <td>Selling_type__Individual</td>\n",
       "    </tr>\n",
       "    <tr>\n",
       "      <th>7</th>\n",
       "      <td>8.440614</td>\n",
       "      <td>Transmission__Manual</td>\n",
       "    </tr>\n",
       "  </tbody>\n",
       "</table>\n",
       "</div>"
      ],
      "text/plain": [
       "         VIF                  Features\n",
       "0   3.211044             Present_Price\n",
       "1   2.888998                Driven_kms\n",
       "2   1.086964                     Owner\n",
       "3  16.194782                   Car_age\n",
       "4   5.395420         Fuel_Type__Diesel\n",
       "5  16.933491         Fuel_Type__Petrol\n",
       "6   2.231970  Selling_type__Individual\n",
       "7   8.440614      Transmission__Manual"
      ]
     },
     "execution_count": 14,
     "metadata": {},
     "output_type": "execute_result"
    }
   ],
   "source": [
    "from statsmodels.stats.outliers_influence import variance_inflation_factor\n",
    "variables = df_new[['Present_Price','Driven_kms','Owner','Car_age','Fuel_Type__Diesel','Fuel_Type__Petrol','Selling_type__Individual','Transmission__Manual']]\n",
    "vif = pd.DataFrame()\n",
    "vif[\"VIF\"] = [variance_inflation_factor(variables.values, i) for i in range(variables.shape[1])]\n",
    "vif[\"Features\"] = variables.columns\n",
    "vif"
   ]
  },
  {
   "cell_type": "code",
   "execution_count": 15,
   "id": "649e53e0",
   "metadata": {
    "execution": {
     "iopub.execute_input": "2023-02-27T20:18:36.998878Z",
     "iopub.status.busy": "2023-02-27T20:18:36.998468Z",
     "iopub.status.idle": "2023-02-27T20:18:37.004969Z",
     "shell.execute_reply": "2023-02-27T20:18:37.003605Z"
    },
    "papermill": {
     "duration": 0.026952,
     "end_time": "2023-02-27T20:18:37.007449",
     "exception": false,
     "start_time": "2023-02-27T20:18:36.980497",
     "status": "completed"
    },
    "tags": []
   },
   "outputs": [],
   "source": [
    "# Car_age and fuel_type_petrol feature has high VIF\n",
    "df_no_multicolinearity = df_new.drop(['Driven_kms','Fuel_Type__Petrol'],axis=1)"
   ]
  },
  {
   "cell_type": "code",
   "execution_count": 16,
   "id": "b2cde27e",
   "metadata": {
    "execution": {
     "iopub.execute_input": "2023-02-27T20:18:37.041491Z",
     "iopub.status.busy": "2023-02-27T20:18:37.041067Z",
     "iopub.status.idle": "2023-02-27T20:18:37.061318Z",
     "shell.execute_reply": "2023-02-27T20:18:37.060132Z"
    },
    "papermill": {
     "duration": 0.040266,
     "end_time": "2023-02-27T20:18:37.063719",
     "exception": false,
     "start_time": "2023-02-27T20:18:37.023453",
     "status": "completed"
    },
    "tags": []
   },
   "outputs": [
    {
     "data": {
      "text/html": [
       "<div>\n",
       "<style scoped>\n",
       "    .dataframe tbody tr th:only-of-type {\n",
       "        vertical-align: middle;\n",
       "    }\n",
       "\n",
       "    .dataframe tbody tr th {\n",
       "        vertical-align: top;\n",
       "    }\n",
       "\n",
       "    .dataframe thead th {\n",
       "        text-align: right;\n",
       "    }\n",
       "</style>\n",
       "<table border=\"1\" class=\"dataframe\">\n",
       "  <thead>\n",
       "    <tr style=\"text-align: right;\">\n",
       "      <th></th>\n",
       "      <th>VIF</th>\n",
       "      <th>Features</th>\n",
       "    </tr>\n",
       "  </thead>\n",
       "  <tbody>\n",
       "    <tr>\n",
       "      <th>0</th>\n",
       "      <td>2.200856</td>\n",
       "      <td>Present_Price</td>\n",
       "    </tr>\n",
       "    <tr>\n",
       "      <th>1</th>\n",
       "      <td>1.883550</td>\n",
       "      <td>Driven_kms</td>\n",
       "    </tr>\n",
       "    <tr>\n",
       "      <th>2</th>\n",
       "      <td>1.065891</td>\n",
       "      <td>Owner</td>\n",
       "    </tr>\n",
       "    <tr>\n",
       "      <th>3</th>\n",
       "      <td>1.669331</td>\n",
       "      <td>Fuel_Type__Diesel</td>\n",
       "    </tr>\n",
       "    <tr>\n",
       "      <th>4</th>\n",
       "      <td>1.748706</td>\n",
       "      <td>Selling_type__Individual</td>\n",
       "    </tr>\n",
       "    <tr>\n",
       "      <th>5</th>\n",
       "      <td>2.465837</td>\n",
       "      <td>Transmission__Manual</td>\n",
       "    </tr>\n",
       "  </tbody>\n",
       "</table>\n",
       "</div>"
      ],
      "text/plain": [
       "        VIF                  Features\n",
       "0  2.200856             Present_Price\n",
       "1  1.883550                Driven_kms\n",
       "2  1.065891                     Owner\n",
       "3  1.669331         Fuel_Type__Diesel\n",
       "4  1.748706  Selling_type__Individual\n",
       "5  2.465837      Transmission__Manual"
      ]
     },
     "execution_count": 16,
     "metadata": {},
     "output_type": "execute_result"
    }
   ],
   "source": [
    "# cheking again after removing some correlated feature\n",
    "variables = df_new[['Present_Price','Driven_kms','Owner','Fuel_Type__Diesel','Selling_type__Individual','Transmission__Manual']]\n",
    "vif = pd.DataFrame()\n",
    "vif[\"VIF\"] = [variance_inflation_factor(variables.values, i) for i in range(variables.shape[1])]\n",
    "vif[\"Features\"] = variables.columns\n",
    "vif"
   ]
  },
  {
   "cell_type": "markdown",
   "id": "3014cffc",
   "metadata": {
    "papermill": {
     "duration": 0.015928,
     "end_time": "2023-02-27T20:18:37.095982",
     "exception": false,
     "start_time": "2023-02-27T20:18:37.080054",
     "status": "completed"
    },
    "tags": []
   },
   "source": [
    "* Now we have VIF < 5 and hence there is no Multicollinearity occurrence in our model"
   ]
  },
  {
   "cell_type": "markdown",
   "id": "16dbf197",
   "metadata": {
    "papermill": {
     "duration": 0.015917,
     "end_time": "2023-02-27T20:18:37.128416",
     "exception": false,
     "start_time": "2023-02-27T20:18:37.112499",
     "status": "completed"
    },
    "tags": []
   },
   "source": [
    "# Feature Selection\n",
    "Feature selection simplified models, improves speed and prevent a series of unwanted issues arising from having many features"
   ]
  },
  {
   "cell_type": "code",
   "execution_count": 17,
   "id": "acc63aa6",
   "metadata": {
    "execution": {
     "iopub.execute_input": "2023-02-27T20:18:37.162842Z",
     "iopub.status.busy": "2023-02-27T20:18:37.162286Z",
     "iopub.status.idle": "2023-02-27T20:18:37.868228Z",
     "shell.execute_reply": "2023-02-27T20:18:37.867064Z"
    },
    "papermill": {
     "duration": 0.726256,
     "end_time": "2023-02-27T20:18:37.870747",
     "exception": false,
     "start_time": "2023-02-27T20:18:37.144491",
     "status": "completed"
    },
    "tags": []
   },
   "outputs": [
    {
     "data": {
      "text/plain": [
       "<AxesSubplot:>"
      ]
     },
     "execution_count": 17,
     "metadata": {},
     "output_type": "execute_result"
    },
    {
     "data": {
      "image/png": "[encoded data removed]",
      "text/plain": [
       "<Figure size 1500x700 with 2 Axes>"
      ]
     },
     "metadata": {},
     "output_type": "display_data"
    }
   ],
   "source": [
    "# correlation heat map\n",
    "plt.figure(figsize=[15,7])\n",
    "sns.heatmap(df_no_multicolinearity.corr(), annot=True,cmap='Blues')"
   ]
  },
  {
   "cell_type": "markdown",
   "id": "f0ad0a70",
   "metadata": {
    "papermill": {
     "duration": 0.018312,
     "end_time": "2023-02-27T20:18:37.908020",
     "exception": false,
     "start_time": "2023-02-27T20:18:37.889708",
     "status": "completed"
    },
    "tags": []
   },
   "source": [
    "**Feature Importance**\n",
    "\n",
    "Feature importance gives you a score for each feature of your data, the higher the score more important or relevant is the feature towards our Target variable."
   ]
  },
  {
   "cell_type": "code",
   "execution_count": 18,
   "id": "cd7bf9cb",
   "metadata": {
    "execution": {
     "iopub.execute_input": "2023-02-27T20:18:37.947450Z",
     "iopub.status.busy": "2023-02-27T20:18:37.946643Z",
     "iopub.status.idle": "2023-02-27T20:18:37.952661Z",
     "shell.execute_reply": "2023-02-27T20:18:37.951746Z"
    },
    "papermill": {
     "duration": 0.028322,
     "end_time": "2023-02-27T20:18:37.954827",
     "exception": false,
     "start_time": "2023-02-27T20:18:37.926505",
     "status": "completed"
    },
    "tags": []
   },
   "outputs": [],
   "source": [
    "X = df_no_multicolinearity.drop('Selling_Price',axis=1)\n",
    "y = df_no_multicolinearity['Selling_Price']"
   ]
  },
  {
   "cell_type": "code",
   "execution_count": 19,
   "id": "8c33dd9e",
   "metadata": {
    "execution": {
     "iopub.execute_input": "2023-02-27T20:18:37.993481Z",
     "iopub.status.busy": "2023-02-27T20:18:37.992715Z",
     "iopub.status.idle": "2023-02-27T20:18:38.661866Z",
     "shell.execute_reply": "2023-02-27T20:18:38.660545Z"
    },
    "papermill": {
     "duration": 0.691487,
     "end_time": "2023-02-27T20:18:38.664445",
     "exception": false,
     "start_time": "2023-02-27T20:18:37.972958",
     "status": "completed"
    },
    "tags": []
   },
   "outputs": [
    {
     "data": {
      "text/plain": [
       "ExtraTreesRegressor()"
      ]
     },
     "execution_count": 19,
     "metadata": {},
     "output_type": "execute_result"
    }
   ],
   "source": [
    "# Important feature using ExtraTreesRegressor\n",
    "from sklearn.ensemble import ExtraTreesRegressor\n",
    "etree = ExtraTreesRegressor()\n",
    "etree.fit(X,y)"
   ]
  },
  {
   "cell_type": "code",
   "execution_count": 20,
   "id": "decafd00",
   "metadata": {
    "execution": {
     "iopub.execute_input": "2023-02-27T20:18:38.703807Z",
     "iopub.status.busy": "2023-02-27T20:18:38.703013Z",
     "iopub.status.idle": "2023-02-27T20:18:39.144943Z",
     "shell.execute_reply": "2023-02-27T20:18:39.143789Z"
    },
    "papermill": {
     "duration": 0.464729,
     "end_time": "2023-02-27T20:18:39.147485",
     "exception": false,
     "start_time": "2023-02-27T20:18:38.682756",
     "status": "completed"
    },
    "tags": []
   },
   "outputs": [
    {
     "data": {
      "image/png": "[encoded data removed]",
      "text/plain": [
       "<Figure size 1200x600 with 1 Axes>"
      ]
     },
     "metadata": {},
     "output_type": "display_data"
    }
   ],
   "source": [
    "# plot graph of feature importances for better visualization\n",
    "plt.figure(figsize=[12,6])\n",
    "feat_importances = pd.Series(etree.feature_importances_, index=X.columns)\n",
    "feat_importances.nlargest(6).plot(kind='barh')\n",
    "plt.show()"
   ]
  },
  {
   "cell_type": "code",
   "execution_count": 21,
   "id": "04070606",
   "metadata": {
    "execution": {
     "iopub.execute_input": "2023-02-27T20:18:39.188022Z",
     "iopub.status.busy": "2023-02-27T20:18:39.186861Z",
     "iopub.status.idle": "2023-02-27T20:18:39.195325Z",
     "shell.execute_reply": "2023-02-27T20:18:39.193768Z"
    },
    "papermill": {
     "duration": 0.03135,
     "end_time": "2023-02-27T20:18:39.197903",
     "exception": false,
     "start_time": "2023-02-27T20:18:39.166553",
     "status": "completed"
    },
    "tags": []
   },
   "outputs": [
    {
     "name": "stdout",
     "output_type": "stream",
     "text": [
      "Present_Price               0.387877\n",
      "Fuel_Type__Diesel           0.233548\n",
      "Selling_type__Individual    0.143262\n",
      "Transmission__Manual        0.126021\n",
      "Car_age                     0.107421\n",
      "Owner                       0.001871\n",
      "dtype: float64\n"
     ]
    }
   ],
   "source": [
    "print(feat_importances.sort_values(ascending=False))"
   ]
  },
  {
   "cell_type": "code",
   "execution_count": 22,
   "id": "f1245e3b",
   "metadata": {
    "execution": {
     "iopub.execute_input": "2023-02-27T20:18:39.239248Z",
     "iopub.status.busy": "2023-02-27T20:18:39.238857Z",
     "iopub.status.idle": "2023-02-27T20:18:39.252607Z",
     "shell.execute_reply": "2023-02-27T20:18:39.251736Z"
    },
    "papermill": {
     "duration": 0.037154,
     "end_time": "2023-02-27T20:18:39.254755",
     "exception": false,
     "start_time": "2023-02-27T20:18:39.217601",
     "status": "completed"
    },
    "tags": []
   },
   "outputs": [
    {
     "data": {
      "text/html": [
       "<div>\n",
       "<style scoped>\n",
       "    .dataframe tbody tr th:only-of-type {\n",
       "        vertical-align: middle;\n",
       "    }\n",
       "\n",
       "    .dataframe tbody tr th {\n",
       "        vertical-align: top;\n",
       "    }\n",
       "\n",
       "    .dataframe thead th {\n",
       "        text-align: right;\n",
       "    }\n",
       "</style>\n",
       "<table border=\"1\" class=\"dataframe\">\n",
       "  <thead>\n",
       "    <tr style=\"text-align: right;\">\n",
       "      <th></th>\n",
       "      <th>Selling_Price</th>\n",
       "      <th>Present_Price</th>\n",
       "      <th>Car_age</th>\n",
       "      <th>Fuel_Type__Diesel</th>\n",
       "      <th>Selling_type__Individual</th>\n",
       "      <th>Transmission__Manual</th>\n",
       "    </tr>\n",
       "  </thead>\n",
       "  <tbody>\n",
       "    <tr>\n",
       "      <th>0</th>\n",
       "      <td>3.35</td>\n",
       "      <td>5.59</td>\n",
       "      <td>9</td>\n",
       "      <td>0</td>\n",
       "      <td>0</td>\n",
       "      <td>1</td>\n",
       "    </tr>\n",
       "    <tr>\n",
       "      <th>1</th>\n",
       "      <td>4.75</td>\n",
       "      <td>9.54</td>\n",
       "      <td>10</td>\n",
       "      <td>1</td>\n",
       "      <td>0</td>\n",
       "      <td>1</td>\n",
       "    </tr>\n",
       "    <tr>\n",
       "      <th>2</th>\n",
       "      <td>7.25</td>\n",
       "      <td>9.85</td>\n",
       "      <td>6</td>\n",
       "      <td>0</td>\n",
       "      <td>0</td>\n",
       "      <td>1</td>\n",
       "    </tr>\n",
       "    <tr>\n",
       "      <th>3</th>\n",
       "      <td>2.85</td>\n",
       "      <td>4.15</td>\n",
       "      <td>12</td>\n",
       "      <td>0</td>\n",
       "      <td>0</td>\n",
       "      <td>1</td>\n",
       "    </tr>\n",
       "    <tr>\n",
       "      <th>4</th>\n",
       "      <td>4.60</td>\n",
       "      <td>6.87</td>\n",
       "      <td>9</td>\n",
       "      <td>1</td>\n",
       "      <td>0</td>\n",
       "      <td>1</td>\n",
       "    </tr>\n",
       "  </tbody>\n",
       "</table>\n",
       "</div>"
      ],
      "text/plain": [
       "   Selling_Price  Present_Price  Car_age  Fuel_Type__Diesel  \\\n",
       "0           3.35           5.59        9                  0   \n",
       "1           4.75           9.54       10                  1   \n",
       "2           7.25           9.85        6                  0   \n",
       "3           2.85           4.15       12                  0   \n",
       "4           4.60           6.87        9                  1   \n",
       "\n",
       "   Selling_type__Individual  Transmission__Manual  \n",
       "0                         0                     1  \n",
       "1                         0                     1  \n",
       "2                         0                     1  \n",
       "3                         0                     1  \n",
       "4                         0                     1  "
      ]
     },
     "execution_count": 22,
     "metadata": {},
     "output_type": "execute_result"
    }
   ],
   "source": [
    "# Selecting useful features.\n",
    "final_df = df_no_multicolinearity[['Selling_Price', 'Present_Price','Car_age','Fuel_Type__Diesel','Selling_type__Individual','Transmission__Manual']]\n",
    "final_df.head()"
   ]
  },
  {
   "cell_type": "markdown",
   "id": "17296507",
   "metadata": {
    "papermill": {
     "duration": 0.01887,
     "end_time": "2023-02-27T20:18:39.292759",
     "exception": false,
     "start_time": "2023-02-27T20:18:39.273889",
     "status": "completed"
    },
    "tags": []
   },
   "source": [
    "# Model Development"
   ]
  },
  {
   "cell_type": "code",
   "execution_count": 23,
   "id": "df79cdfc",
   "metadata": {
    "execution": {
     "iopub.execute_input": "2023-02-27T20:18:39.333679Z",
     "iopub.status.busy": "2023-02-27T20:18:39.332491Z",
     "iopub.status.idle": "2023-02-27T20:18:39.339153Z",
     "shell.execute_reply": "2023-02-27T20:18:39.337991Z"
    },
    "papermill": {
     "duration": 0.029559,
     "end_time": "2023-02-27T20:18:39.341382",
     "exception": false,
     "start_time": "2023-02-27T20:18:39.311823",
     "status": "completed"
    },
    "tags": []
   },
   "outputs": [],
   "source": [
    "X = final_df.drop('Selling_Price', axis=1)\n",
    "y = final_df['Selling_Price']"
   ]
  },
  {
   "cell_type": "markdown",
   "id": "dcd819f8",
   "metadata": {
    "papermill": {
     "duration": 0.018823,
     "end_time": "2023-02-27T20:18:39.379966",
     "exception": false,
     "start_time": "2023-02-27T20:18:39.361143",
     "status": "completed"
    },
    "tags": []
   },
   "source": [
    "**Feature Scaling**"
   ]
  },
  {
   "cell_type": "code",
   "execution_count": 24,
   "id": "2d95744a",
   "metadata": {
    "execution": {
     "iopub.execute_input": "2023-02-27T20:18:39.420322Z",
     "iopub.status.busy": "2023-02-27T20:18:39.419943Z",
     "iopub.status.idle": "2023-02-27T20:18:39.433886Z",
     "shell.execute_reply": "2023-02-27T20:18:39.432964Z"
    },
    "papermill": {
     "duration": 0.037096,
     "end_time": "2023-02-27T20:18:39.436115",
     "exception": false,
     "start_time": "2023-02-27T20:18:39.399019",
     "status": "completed"
    },
    "tags": []
   },
   "outputs": [],
   "source": [
    "# feature scallng on training data\n",
    "from sklearn.preprocessing import StandardScaler\n",
    "scaler = StandardScaler()\n",
    "scaler.fit_transform(X[['Present_Price','Car_age']])\n",
    "input_scaled = scaler.transform(X[['Present_Price','Car_age']])\n",
    "scaled_data = pd.DataFrame(input_scaled, columns=['Present_Price','Car_age'])"
   ]
  },
  {
   "cell_type": "code",
   "execution_count": 25,
   "id": "6a9110f4",
   "metadata": {
    "execution": {
     "iopub.execute_input": "2023-02-27T20:18:39.476782Z",
     "iopub.status.busy": "2023-02-27T20:18:39.476323Z",
     "iopub.status.idle": "2023-02-27T20:18:39.485242Z",
     "shell.execute_reply": "2023-02-27T20:18:39.483871Z"
    },
    "papermill": {
     "duration": 0.031999,
     "end_time": "2023-02-27T20:18:39.487670",
     "exception": false,
     "start_time": "2023-02-27T20:18:39.455671",
     "status": "completed"
    },
    "tags": []
   },
   "outputs": [],
   "source": [
    "X_scaled =scaled_data.join(X.drop(['Present_Price','Car_age'],axis=1))"
   ]
  },
  {
   "cell_type": "markdown",
   "id": "af996088",
   "metadata": {
    "papermill": {
     "duration": 0.018913,
     "end_time": "2023-02-27T20:18:39.525915",
     "exception": false,
     "start_time": "2023-02-27T20:18:39.507002",
     "status": "completed"
    },
    "tags": []
   },
   "source": [
    "**Training and Testing Data**"
   ]
  },
  {
   "cell_type": "code",
   "execution_count": 26,
   "id": "539955f9",
   "metadata": {
    "execution": {
     "iopub.execute_input": "2023-02-27T20:18:39.566812Z",
     "iopub.status.busy": "2023-02-27T20:18:39.565982Z",
     "iopub.status.idle": "2023-02-27T20:18:39.576736Z",
     "shell.execute_reply": "2023-02-27T20:18:39.575766Z"
    },
    "papermill": {
     "duration": 0.033781,
     "end_time": "2023-02-27T20:18:39.579024",
     "exception": false,
     "start_time": "2023-02-27T20:18:39.545243",
     "status": "completed"
    },
    "tags": []
   },
   "outputs": [
    {
     "data": {
      "text/plain": [
       "((240, 5), (240,), (61, 5), (61,))"
      ]
     },
     "execution_count": 26,
     "metadata": {},
     "output_type": "execute_result"
    }
   ],
   "source": [
    "from sklearn.model_selection import train_test_split\n",
    "X_train,X_test,y_train,y_test = train_test_split(X_scaled,y,test_size=0.2, random_state=42)\n",
    "X_train.shape,y_train.shape,X_test.shape,y_test.shape"
   ]
  },
  {
   "cell_type": "code",
   "execution_count": 27,
   "id": "716d5d5e",
   "metadata": {
    "execution": {
     "iopub.execute_input": "2023-02-27T20:18:39.620346Z",
     "iopub.status.busy": "2023-02-27T20:18:39.619671Z",
     "iopub.status.idle": "2023-02-27T20:18:39.711812Z",
     "shell.execute_reply": "2023-02-27T20:18:39.710385Z"
    },
    "papermill": {
     "duration": 0.116238,
     "end_time": "2023-02-27T20:18:39.714597",
     "exception": false,
     "start_time": "2023-02-27T20:18:39.598359",
     "status": "completed"
    },
    "tags": []
   },
   "outputs": [],
   "source": [
    "from sklearn.linear_model import LinearRegression\n",
    "from sklearn.tree import DecisionTreeRegressor\n",
    "from sklearn.ensemble import RandomForestRegressor,GradientBoostingRegressor\n",
    "from xgboost import XGBRegressor\n",
    "from sklearn.metrics import r2_score,mean_absolute_error,mean_squared_error"
   ]
  },
  {
   "cell_type": "code",
   "execution_count": 28,
   "id": "6adf818c",
   "metadata": {
    "execution": {
     "iopub.execute_input": "2023-02-27T20:18:39.755008Z",
     "iopub.status.busy": "2023-02-27T20:18:39.754570Z",
     "iopub.status.idle": "2023-02-27T20:18:40.505801Z",
     "shell.execute_reply": "2023-02-27T20:18:40.504067Z"
    },
    "papermill": {
     "duration": 0.774714,
     "end_time": "2023-02-27T20:18:40.508683",
     "exception": false,
     "start_time": "2023-02-27T20:18:39.733969",
     "status": "completed"
    },
    "tags": []
   },
   "outputs": [
    {
     "name": "stdout",
     "output_type": "stream",
     "text": [
      "Model is: LinearRegression()\n",
      "Training score : 0.8843830218270095\n",
      "Predictions are : [ 2.85090216  8.12803353  6.41650528 -0.72103319  9.01800124  7.45747829\n",
      "  1.32336542  0.65668224  1.34213912  7.4813302   9.09094746  0.49298142\n",
      "  8.12866516  3.24051879  6.83169728  3.16976577  0.19714116 10.69155693\n",
      "  1.75733112  2.3029391   0.17755181  8.07727328  6.41650528  2.38200739\n",
      "  0.70357043  3.5644606   5.30530948  2.68891188  2.15374942  1.7513451\n",
      "  0.20184841  9.20766793 -0.97424783  2.05714484  8.66976944  4.48435841\n",
      "  7.34281425  7.35723323  2.96516278  7.7425873   3.60354714  4.10888459\n",
      "  4.22860468  0.6268443   7.32533886  0.37789223  7.29764953 11.06720188\n",
      "  3.04615146  5.30397652  6.58815672  2.15374942 20.47942208 16.80427774\n",
      "  7.66208128  9.62400888  4.34541732  9.01503698  1.41857615  7.45010211\n",
      "  0.11361337]\n",
      "R2 score is : 0.8520804961634096\n",
      "MAE : 1.207955719295842\n",
      "MSE : 3.407412232827174\n",
      "RMSE : 1.8459177210339506\n",
      "           Model Name  R2 score       MAE       MSE      RMSE\n",
      "0  LinearRegression()   0.85208  1.207956  3.407412  1.845918\n",
      "================================================================================\n",
      "Model is: DecisionTreeRegressor()\n",
      "Training score : 0.9987176853605171\n",
      "Predictions are : [ 0.45       10.21666667  5.2         0.2         7.25        4.9\n",
      "  1.13        0.4         0.475       7.2         7.25        1.\n",
      "  7.5         0.465       5.95        2.35        0.9        19.75\n",
      "  0.475       1.65        0.38        8.75        5.2         2.35\n",
      "  0.5         3.1         5.25        2.9         1.45        1.15\n",
      "  0.38       11.25        0.52        2.25        7.75        3.9\n",
      "  7.25        3.6         2.          4.35        3.49        2.75\n",
      "  5.4         0.6         4.9         0.65        8.73        4.35\n",
      "  3.1         3.1         4.8         1.45       23.         20.75\n",
      "  4.9        10.21666667  4.825       8.99        2.25        6.2\n",
      "  0.25      ]\n",
      "R2 score is : 0.9527452256769751\n",
      "MAE : 0.6265573770491802\n",
      "MSE : 1.0885413479052821\n",
      "RMSE : 1.0433318493678232\n",
      "                Model Name  R2 score       MAE       MSE      RMSE\n",
      "0       LinearRegression()  0.852080  1.207956  3.407412  1.845918\n",
      "1  DecisionTreeRegressor()  0.952745  0.626557  1.088541  1.043332\n",
      "================================================================================\n",
      "Model is: RandomForestRegressor()\n",
      "Training score : 0.9851555872432518\n",
      "Predictions are : [ 0.46064167 10.22691667  5.106       0.25256667  7.32180952  6.4014\n",
      "  1.12392     0.47082667  0.46555833  6.7511      7.898575    1.05306667\n",
      "  7.82110833  0.457765    5.58        2.82325     1.103      14.54555\n",
      "  0.47123333  1.5485      0.25155     8.19473214  5.106       2.56033333\n",
      "  0.51104167  3.55545     5.21866667  3.1205      1.31267333  1.17584\n",
      "  0.3614      9.78301667  0.47761667  2.359       7.828425    4.11685833\n",
      "  6.75625952  5.11400952  2.27008333  5.99707619  3.86834286  3.6302\n",
      "  4.6561      0.565795    6.34063333  0.7419      7.97851012  8.6021\n",
      "  2.94408333  3.62585     4.972       1.31267333 21.74700333 20.87556667\n",
      "  6.64485    10.98915     4.750575    9.0761      2.355       6.3384\n",
      "  0.239     ]\n",
      "R2 score is : 0.9633907118180892\n",
      "MAE : 0.5808888348946142\n",
      "MSE : 0.843316352142068\n",
      "RMSE : 0.9183225752109484\n",
      "                                          Model Name  R2 score       MAE  \\\n",
      "0                                 LinearRegression()  0.852080  1.207956   \n",
      "1                            DecisionTreeRegressor()  0.952745  0.626557   \n",
      "2  (DecisionTreeRegressor(max_features='auto', ra...  0.963391  0.580889   \n",
      "\n",
      "        MSE      RMSE  \n",
      "0  3.407412  1.845918  \n",
      "1  1.088541  1.043332  \n",
      "2  0.843316  0.918323  \n",
      "================================================================================\n",
      "Model is: GradientBoostingRegressor()\n",
      "Training score : 0.9948090654286693\n",
      "Predictions are : [ 0.65772599 10.2472733   4.82134863  0.29178183  6.95636753  6.55006466\n",
      "  1.10533657  0.58970751  0.46947271  6.67630259  8.27036339  0.99550768\n",
      "  7.30303325  0.53785308  5.29901245  2.64636703  1.03493981 14.60537394\n",
      "  0.50053844  1.45758956  0.3289391   8.36253557  4.82134863  2.54827386\n",
      "  0.60336719  3.84205293  5.07658939  3.47900373  1.3213544   1.3382224\n",
      "  0.39479279  9.4046343   0.26242297  2.73215946  8.34954384  4.32124566\n",
      "  6.65200108  4.22673366  2.63104383  5.77530133  3.3408089   2.62165709\n",
      "  4.32836524  0.58970751  6.73746572  0.65439713  8.46062523  8.81393944\n",
      "  2.64636703  4.04978678  5.38172349  1.3213544  22.65415886 22.99820643\n",
      "  7.28625056 10.47635188  4.60933058  9.35936702  2.31508394  7.14245198\n",
      "  0.3289391 ]\n",
      "R2 score is : 0.9713580215155158\n",
      "MAE : 0.49781762437085975\n",
      "MSE : 0.6597847162076718\n",
      "RMSE : 0.8122713316421255\n",
      "                                          Model Name  R2 score       MAE  \\\n",
      "0                                 LinearRegression()  0.852080  1.207956   \n",
      "1                            DecisionTreeRegressor()  0.952745  0.626557   \n",
      "2  (DecisionTreeRegressor(max_features='auto', ra...  0.963391  0.580889   \n",
      "3  ([DecisionTreeRegressor(criterion='friedman_ms...  0.971358  0.497818   \n",
      "\n",
      "        MSE      RMSE  \n",
      "0  3.407412  1.845918  \n",
      "1  1.088541  1.043332  \n",
      "2  0.843316  0.918323  \n",
      "3  0.659785  0.812271  \n",
      "================================================================================\n",
      "Model is: XGBRegressor(base_score=None, booster=None, callbacks=None,\n",
      "             colsample_bylevel=None, colsample_bynode=None,\n",
      "             colsample_bytree=None, early_stopping_rounds=None,\n",
      "             enable_categorical=False, eval_metric=None, gamma=None,\n",
      "             gpu_id=None, grow_policy=None, importance_type=None,\n",
      "             interaction_constraints=None, learning_rate=None, max_bin=None,\n",
      "             max_cat_to_onehot=None, max_delta_step=None, max_depth=None,\n",
      "             max_leaves=None, min_child_weight=None, missing=nan,\n",
      "             monotone_constraints=None, n_estimators=100, n_jobs=None,\n",
      "             num_parallel_tree=None, predictor=None, random_state=None,\n",
      "             reg_alpha=None, reg_lambda=None, ...)\n",
      "Training score : 0.9987020379952698\n",
      "Predictions are : [ 0.46456662 10.211329    5.228299    0.21170601  7.244372    5.21339\n",
      "  1.1159931   0.42666733  0.44976223  7.117651    7.88452     1.02824\n",
      "  8.108611    0.46491325  5.884251    2.6271086   1.134655   11.503758\n",
      "  0.47711104  1.6041082   0.21395734  9.094436    5.228299    3.0336328\n",
      "  0.4908361   2.9538298   5.2689295   2.6856406   1.2153473   1.166179\n",
      "  0.4305523  10.637594    0.4708502   2.2864447   7.764371    3.9278865\n",
      "  7.440097    3.9423482   2.2886403   5.3590655   2.986289    3.6689482\n",
      "  4.78441     0.5857504   6.1405745   0.65246016  9.000496    9.389355\n",
      "  3.078324    3.526449    5.1849413   1.2153473  22.924786   21.258898\n",
      "  6.6884346  10.371662    4.808566    9.410498    2.2156324   6.0836563\n",
      "  0.24413344]\n",
      "R2 score is : 0.9358748070040459\n",
      "MAE : 0.6569639732798592\n",
      "MSE : 1.4771613031382231\n",
      "RMSE : 1.2153852488566015\n",
      "                                          Model Name  R2 score       MAE  \\\n",
      "0                                 LinearRegression()  0.852080  1.207956   \n",
      "1                            DecisionTreeRegressor()  0.952745  0.626557   \n",
      "2  (DecisionTreeRegressor(max_features='auto', ra...  0.963391  0.580889   \n",
      "3  ([DecisionTreeRegressor(criterion='friedman_ms...  0.971358  0.497818   \n",
      "4  XGBRegressor(base_score=0.5, booster='gbtree',...  0.935875  0.656964   \n",
      "\n",
      "        MSE      RMSE  \n",
      "0  3.407412  1.845918  \n",
      "1  1.088541  1.043332  \n",
      "2  0.843316  0.918323  \n",
      "3  0.659785  0.812271  \n",
      "4  1.477161  1.215385  \n",
      "================================================================================\n"
     ]
    }
   ],
   "source": [
    "res = pd.DataFrame()\n",
    "\n",
    "lr = LinearRegression()\n",
    "tree = DecisionTreeRegressor()\n",
    "rf = RandomForestRegressor()\n",
    "gb = GradientBoostingRegressor()\n",
    "xgb = XGBRegressor()\n",
    "\n",
    "Models = [lr,tree,rf,gb,xgb]\n",
    "\n",
    "for model in Models:\n",
    "    print('Model is: {}'.format(model))\n",
    "    m = model.fit(X_train,y_train)\n",
    "    print('Training score : {}'.format(m.score(X_train,y_train)))\n",
    "    prediction = m.predict(X_test)\n",
    "    print('Predictions are : {}'.format(prediction))\n",
    "    \n",
    "    r2score = r2_score(y_test,prediction)\n",
    "    print('R2 score is : {}'.format(r2score))\n",
    "\n",
    "    mae = mean_absolute_error(y_test,prediction)\n",
    "    mse = mean_squared_error(y_test,prediction)\n",
    "    rmse = np.sqrt(mean_squared_error(y_test,prediction))\n",
    "    print('MAE : {}'.format(mae))\n",
    "    print('MSE : {}'.format(mse))\n",
    "    print('RMSE : {}'.format(rmse))\n",
    "\n",
    "    model_dict = {'Model Name' : model, 'R2 score':r2score,'MAE' : mae,'MSE' : mse,'RMSE' : rmse}\n",
    "    res = res.append(model_dict,ignore_index=True)\n",
    "    print(res)\n",
    "    print('='*80)"
   ]
  },
  {
   "cell_type": "markdown",
   "id": "401885ed",
   "metadata": {
    "papermill": {
     "duration": 0.019517,
     "end_time": "2023-02-27T20:18:40.548119",
     "exception": false,
     "start_time": "2023-02-27T20:18:40.528602",
     "status": "completed"
    },
    "tags": []
   },
   "source": [
    "# Model Comparison"
   ]
  },
  {
   "cell_type": "code",
   "execution_count": 29,
   "id": "a01138f6",
   "metadata": {
    "execution": {
     "iopub.execute_input": "2023-02-27T20:18:40.591256Z",
     "iopub.status.busy": "2023-02-27T20:18:40.590482Z",
     "iopub.status.idle": "2023-02-27T20:18:40.607743Z",
     "shell.execute_reply": "2023-02-27T20:18:40.606587Z"
    },
    "papermill": {
     "duration": 0.041625,
     "end_time": "2023-02-27T20:18:40.610164",
     "exception": false,
     "start_time": "2023-02-27T20:18:40.568539",
     "status": "completed"
    },
    "tags": []
   },
   "outputs": [
    {
     "data": {
      "text/html": [
       "<div>\n",
       "<style scoped>\n",
       "    .dataframe tbody tr th:only-of-type {\n",
       "        vertical-align: middle;\n",
       "    }\n",
       "\n",
       "    .dataframe tbody tr th {\n",
       "        vertical-align: top;\n",
       "    }\n",
       "\n",
       "    .dataframe thead th {\n",
       "        text-align: right;\n",
       "    }\n",
       "</style>\n",
       "<table border=\"1\" class=\"dataframe\">\n",
       "  <thead>\n",
       "    <tr style=\"text-align: right;\">\n",
       "      <th></th>\n",
       "      <th>Models</th>\n",
       "      <th>R2 score</th>\n",
       "      <th>MAE</th>\n",
       "      <th>MSE</th>\n",
       "      <th>RMSE</th>\n",
       "    </tr>\n",
       "  </thead>\n",
       "  <tbody>\n",
       "    <tr>\n",
       "      <th>3</th>\n",
       "      <td>GradientBoostingRegressor</td>\n",
       "      <td>0.971358</td>\n",
       "      <td>0.497818</td>\n",
       "      <td>0.659785</td>\n",
       "      <td>0.812271</td>\n",
       "    </tr>\n",
       "    <tr>\n",
       "      <th>2</th>\n",
       "      <td>RandomForestRegressor</td>\n",
       "      <td>0.963391</td>\n",
       "      <td>0.580889</td>\n",
       "      <td>0.843316</td>\n",
       "      <td>0.918323</td>\n",
       "    </tr>\n",
       "    <tr>\n",
       "      <th>1</th>\n",
       "      <td>DecisionTreeRegressor</td>\n",
       "      <td>0.952745</td>\n",
       "      <td>0.626557</td>\n",
       "      <td>1.088541</td>\n",
       "      <td>1.043332</td>\n",
       "    </tr>\n",
       "    <tr>\n",
       "      <th>4</th>\n",
       "      <td>XGBRegressor</td>\n",
       "      <td>0.935875</td>\n",
       "      <td>0.656964</td>\n",
       "      <td>1.477161</td>\n",
       "      <td>1.215385</td>\n",
       "    </tr>\n",
       "    <tr>\n",
       "      <th>0</th>\n",
       "      <td>LinearRegression</td>\n",
       "      <td>0.852080</td>\n",
       "      <td>1.207956</td>\n",
       "      <td>3.407412</td>\n",
       "      <td>1.845918</td>\n",
       "    </tr>\n",
       "  </tbody>\n",
       "</table>\n",
       "</div>"
      ],
      "text/plain": [
       "                      Models  R2 score       MAE       MSE      RMSE\n",
       "3  GradientBoostingRegressor  0.971358  0.497818  0.659785  0.812271\n",
       "2      RandomForestRegressor  0.963391  0.580889  0.843316  0.918323\n",
       "1      DecisionTreeRegressor  0.952745  0.626557  1.088541  1.043332\n",
       "4               XGBRegressor  0.935875  0.656964  1.477161  1.215385\n",
       "0           LinearRegression  0.852080  1.207956  3.407412  1.845918"
      ]
     },
     "execution_count": 29,
     "metadata": {},
     "output_type": "execute_result"
    }
   ],
   "source": [
    "models = ['LinearRegression','DecisionTreeRegressor','RandomForestRegressor','GradientBoostingRegressor','XGBRegressor']\n",
    "\n",
    "result = pd.DataFrame({'Models':models})\n",
    "result['R2 score'] = res['R2 score']\n",
    "result['MAE'] = res['MAE']\n",
    "result['MSE'] = res['MSE']\n",
    "result['RMSE'] = res['RMSE']\n",
    "result = result.sort_values(by='R2 score',ascending=False)\n",
    "result"
   ]
  },
  {
   "cell_type": "markdown",
   "id": "e1dd1640",
   "metadata": {
    "papermill": {
     "duration": 0.019696,
     "end_time": "2023-02-27T20:18:40.649872",
     "exception": false,
     "start_time": "2023-02-27T20:18:40.630176",
     "status": "completed"
    },
    "tags": []
   },
   "source": [
    "**Trainning data with GradientBoostingRegressor**"
   ]
  },
  {
   "cell_type": "code",
   "execution_count": 30,
   "id": "beadfe53",
   "metadata": {
    "execution": {
     "iopub.execute_input": "2023-02-27T20:18:40.691640Z",
     "iopub.status.busy": "2023-02-27T20:18:40.691199Z",
     "iopub.status.idle": "2023-02-27T20:18:40.758094Z",
     "shell.execute_reply": "2023-02-27T20:18:40.756658Z"
    },
    "papermill": {
     "duration": 0.091026,
     "end_time": "2023-02-27T20:18:40.760877",
     "exception": false,
     "start_time": "2023-02-27T20:18:40.669851",
     "status": "completed"
    },
    "tags": []
   },
   "outputs": [
    {
     "data": {
      "text/html": [
       "<div>\n",
       "<style scoped>\n",
       "    .dataframe tbody tr th:only-of-type {\n",
       "        vertical-align: middle;\n",
       "    }\n",
       "\n",
       "    .dataframe tbody tr th {\n",
       "        vertical-align: top;\n",
       "    }\n",
       "\n",
       "    .dataframe thead th {\n",
       "        text-align: right;\n",
       "    }\n",
       "</style>\n",
       "<table border=\"1\" class=\"dataframe\">\n",
       "  <thead>\n",
       "    <tr style=\"text-align: right;\">\n",
       "      <th></th>\n",
       "      <th>Selling_Price</th>\n",
       "      <th>Present_Price</th>\n",
       "      <th>Driven_kms</th>\n",
       "      <th>Fuel_Type</th>\n",
       "      <th>Selling_type</th>\n",
       "      <th>Transmission</th>\n",
       "      <th>Owner</th>\n",
       "      <th>Car_age</th>\n",
       "      <th>Price_actual</th>\n",
       "      <th>Price_pred</th>\n",
       "    </tr>\n",
       "  </thead>\n",
       "  <tbody>\n",
       "    <tr>\n",
       "      <th>5</th>\n",
       "      <td>9.25</td>\n",
       "      <td>9.83</td>\n",
       "      <td>2071</td>\n",
       "      <td>Diesel</td>\n",
       "      <td>Dealer</td>\n",
       "      <td>Manual</td>\n",
       "      <td>0</td>\n",
       "      <td>5</td>\n",
       "      <td>9.25</td>\n",
       "      <td>8.223105</td>\n",
       "    </tr>\n",
       "    <tr>\n",
       "      <th>7</th>\n",
       "      <td>6.50</td>\n",
       "      <td>8.61</td>\n",
       "      <td>33429</td>\n",
       "      <td>Diesel</td>\n",
       "      <td>Dealer</td>\n",
       "      <td>Manual</td>\n",
       "      <td>0</td>\n",
       "      <td>8</td>\n",
       "      <td>6.50</td>\n",
       "      <td>6.737466</td>\n",
       "    </tr>\n",
       "    <tr>\n",
       "      <th>9</th>\n",
       "      <td>7.45</td>\n",
       "      <td>8.92</td>\n",
       "      <td>42367</td>\n",
       "      <td>Diesel</td>\n",
       "      <td>Dealer</td>\n",
       "      <td>Manual</td>\n",
       "      <td>0</td>\n",
       "      <td>8</td>\n",
       "      <td>7.45</td>\n",
       "      <td>6.550065</td>\n",
       "    </tr>\n",
       "    <tr>\n",
       "      <th>17</th>\n",
       "      <td>7.75</td>\n",
       "      <td>10.79</td>\n",
       "      <td>43000</td>\n",
       "      <td>Diesel</td>\n",
       "      <td>Dealer</td>\n",
       "      <td>Manual</td>\n",
       "      <td>0</td>\n",
       "      <td>7</td>\n",
       "      <td>7.75</td>\n",
       "      <td>8.349544</td>\n",
       "    </tr>\n",
       "    <tr>\n",
       "      <th>24</th>\n",
       "      <td>2.90</td>\n",
       "      <td>4.41</td>\n",
       "      <td>56879</td>\n",
       "      <td>Petrol</td>\n",
       "      <td>Dealer</td>\n",
       "      <td>Manual</td>\n",
       "      <td>0</td>\n",
       "      <td>10</td>\n",
       "      <td>2.90</td>\n",
       "      <td>2.631044</td>\n",
       "    </tr>\n",
       "    <tr>\n",
       "      <th>25</th>\n",
       "      <td>3.00</td>\n",
       "      <td>4.99</td>\n",
       "      <td>20000</td>\n",
       "      <td>Petrol</td>\n",
       "      <td>Dealer</td>\n",
       "      <td>Manual</td>\n",
       "      <td>0</td>\n",
       "      <td>12</td>\n",
       "      <td>3.00</td>\n",
       "      <td>2.548274</td>\n",
       "    </tr>\n",
       "    <tr>\n",
       "      <th>33</th>\n",
       "      <td>6.00</td>\n",
       "      <td>9.95</td>\n",
       "      <td>45000</td>\n",
       "      <td>Diesel</td>\n",
       "      <td>Dealer</td>\n",
       "      <td>Manual</td>\n",
       "      <td>0</td>\n",
       "      <td>9</td>\n",
       "      <td>6.00</td>\n",
       "      <td>6.676303</td>\n",
       "    </tr>\n",
       "    <tr>\n",
       "      <th>42</th>\n",
       "      <td>1.95</td>\n",
       "      <td>7.15</td>\n",
       "      <td>58000</td>\n",
       "      <td>Petrol</td>\n",
       "      <td>Dealer</td>\n",
       "      <td>Manual</td>\n",
       "      <td>0</td>\n",
       "      <td>15</td>\n",
       "      <td>1.95</td>\n",
       "      <td>2.732159</td>\n",
       "    </tr>\n",
       "    <tr>\n",
       "      <th>45</th>\n",
       "      <td>7.50</td>\n",
       "      <td>12.04</td>\n",
       "      <td>15000</td>\n",
       "      <td>Petrol</td>\n",
       "      <td>Dealer</td>\n",
       "      <td>Automatic</td>\n",
       "      <td>0</td>\n",
       "      <td>9</td>\n",
       "      <td>7.50</td>\n",
       "      <td>7.303033</td>\n",
       "    </tr>\n",
       "    <tr>\n",
       "      <th>46</th>\n",
       "      <td>2.65</td>\n",
       "      <td>4.89</td>\n",
       "      <td>64532</td>\n",
       "      <td>Petrol</td>\n",
       "      <td>Dealer</td>\n",
       "      <td>Manual</td>\n",
       "      <td>0</td>\n",
       "      <td>10</td>\n",
       "      <td>2.65</td>\n",
       "      <td>2.646367</td>\n",
       "    </tr>\n",
       "  </tbody>\n",
       "</table>\n",
       "</div>"
      ],
      "text/plain": [
       "    Selling_Price  Present_Price  Driven_kms Fuel_Type Selling_type  \\\n",
       "5            9.25           9.83        2071    Diesel       Dealer   \n",
       "7            6.50           8.61       33429    Diesel       Dealer   \n",
       "9            7.45           8.92       42367    Diesel       Dealer   \n",
       "17           7.75          10.79       43000    Diesel       Dealer   \n",
       "24           2.90           4.41       56879    Petrol       Dealer   \n",
       "25           3.00           4.99       20000    Petrol       Dealer   \n",
       "33           6.00           9.95       45000    Diesel       Dealer   \n",
       "42           1.95           7.15       58000    Petrol       Dealer   \n",
       "45           7.50          12.04       15000    Petrol       Dealer   \n",
       "46           2.65           4.89       64532    Petrol       Dealer   \n",
       "\n",
       "   Transmission  Owner  Car_age  Price_actual  Price_pred  \n",
       "5        Manual      0        5          9.25    8.223105  \n",
       "7        Manual      0        8          6.50    6.737466  \n",
       "9        Manual      0        8          7.45    6.550065  \n",
       "17       Manual      0        7          7.75    8.349544  \n",
       "24       Manual      0       10          2.90    2.631044  \n",
       "25       Manual      0       12          3.00    2.548274  \n",
       "33       Manual      0        9          6.00    6.676303  \n",
       "42       Manual      0       15          1.95    2.732159  \n",
       "45    Automatic      0        9          7.50    7.303033  \n",
       "46       Manual      0       10          2.65    2.646367  "
      ]
     },
     "execution_count": 30,
     "metadata": {},
     "output_type": "execute_result"
    }
   ],
   "source": [
    "gb.fit(X_train,y_train)\n",
    "y_pred = gb.predict(X_test)\n",
    "\n",
    "out = pd.DataFrame({'Price_actual':y_test,'Price_pred':y_pred})\n",
    "df_copy = df.copy()\n",
    "res = df_copy.merge(out,left_index=True,right_index=True)\n",
    "res.head(10)"
   ]
  },
  {
   "cell_type": "markdown",
   "id": "80abb84e",
   "metadata": {
    "papermill": {
     "duration": 0.02042,
     "end_time": "2023-02-27T20:18:40.801647",
     "exception": false,
     "start_time": "2023-02-27T20:18:40.781227",
     "status": "completed"
    },
    "tags": []
   },
   "source": [
    "# Conclusions:\n",
    "* Present price of a car plays an important role in predicting Selling Price, One increases the other gradually increases.\n",
    "* Car age is effecting negatively as older the car lesser the Selling Price.\n",
    "* Selling Price of cars with Fuel type Diesel is higher.\n",
    "* Car of Manual type is of less priced whereas of Automatic type is high.\n",
    "* Cars sold by Individual tend to get less Selling Price when sold by Dealers."
   ]
  },
  {
   "cell_type": "code",
   "execution_count": null,
   "id": "532d223a",
   "metadata": {
    "papermill": {
     "duration": 0.02016,
     "end_time": "2023-02-27T20:18:40.842777",
     "exception": false,
     "start_time": "2023-02-27T20:18:40.822617",
     "status": "completed"
    },
    "tags": []
   },
   "outputs": [],
   "source": []
  }
 ],
 "metadata": {
  "kernelspec": {
   "display_name": "Python 3",
   "language": "python",
   "name": "python3"
  },
  "language_info": {
   "codemirror_mode": {
    "name": "ipython",
    "version": 3
   },
   "file_extension": ".py",
   "mimetype": "text/x-python",
   "name": "python",
   "nbconvert_exporter": "python",
   "pygments_lexer": "ipython3",
   "version": "3.7.12"
  },
  "papermill": {
   "default_parameters": {},
   "duration": 19.12833,
   "end_time": "2023-02-27T20:18:41.685188",
   "environment_variables": {},
   "exception": null,
   "input_path": "__notebook__.ipynb",
   "output_path": "__notebook__.ipynb",
   "parameters": {},
   "start_time": "2023-02-27T20:18:22.556858",
   "version": "2.4.0"
  }
 },
 "nbformat": 4,
 "nbformat_minor": 5
}
